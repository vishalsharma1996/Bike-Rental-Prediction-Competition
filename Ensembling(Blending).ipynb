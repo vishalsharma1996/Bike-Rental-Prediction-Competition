{
  "nbformat": 4,
  "nbformat_minor": 0,
  "metadata": {
    "colab": {
      "name": "Ensembling(Blending).ipynb",
      "provenance": [],
      "collapsed_sections": []
    },
    "kernelspec": {
      "name": "python3",
      "display_name": "Python 3"
    },
    "language_info": {
      "name": "python"
    }
  },
  "cells": [
    {
      "cell_type": "markdown",
      "metadata": {
        "id": "Es_e2vCem2KJ"
      },
      "source": [
        "**This file contains an Ensembling(Blending Approach) which is done by combining 6 different tree based models**"
      ]
    },
    {
      "cell_type": "code",
      "metadata": {
        "colab": {
          "resources": {
            "http://localhost:8080/nbextensions/google.colab/files.js": {
              "data": "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",
              "ok": true,
              "headers": [
                [
                  "content-type",
                  "application/javascript"
                ]
              ],
              "status": 200,
              "status_text": ""
            }
          },
          "base_uri": "https://localhost:8080/",
          "height": 72
        },
        "id": "MHcXOCo145yw",
        "outputId": "782fb479-511c-4719-b1e2-9afba17e0037"
      },
      "source": [
        "from google.colab import files\n",
        "files=files.upload()"
      ],
      "execution_count": null,
      "outputs": [
        {
          "output_type": "display_data",
          "data": {
            "text/html": [
              "\n",
              "     <input type=\"file\" id=\"files-f86eb676-f31c-4845-b854-db56b8cd3f39\" name=\"files[]\" multiple disabled\n",
              "        style=\"border:none\" />\n",
              "     <output id=\"result-f86eb676-f31c-4845-b854-db56b8cd3f39\">\n",
              "      Upload widget is only available when the cell has been executed in the\n",
              "      current browser session. Please rerun this cell to enable.\n",
              "      </output>\n",
              "      <script src=\"/nbextensions/google.colab/files.js\"></script> "
            ],
            "text/plain": [
              "<IPython.core.display.HTML object>"
            ]
          },
          "metadata": {}
        },
        {
          "output_type": "stream",
          "name": "stdout",
          "text": [
            "Saving train_df_reg_users.csv to train_df_reg_users.csv\n"
          ]
        }
      ]
    },
    {
      "cell_type": "code",
      "metadata": {
        "id": "Pb1bwAaJ5AaQ"
      },
      "source": [
        "import pandas as pd\n",
        "import numpy as np\n",
        "import matplotlib.pyplot as plt\n",
        "import pickle"
      ],
      "execution_count": null,
      "outputs": []
    },
    {
      "cell_type": "code",
      "metadata": {
        "id": "fZkQp6DZ5Gim"
      },
      "source": [
        "pip install optuna"
      ],
      "execution_count": null,
      "outputs": []
    },
    {
      "cell_type": "code",
      "metadata": {
        "id": "AJBUcrNt5L_g"
      },
      "source": [
        "pip install catboost"
      ],
      "execution_count": null,
      "outputs": []
    },
    {
      "cell_type": "markdown",
      "metadata": {
        "id": "Pb_IXC5HnN5Z"
      },
      "source": [
        "**Hyperparameter Tuning is done using optuna**"
      ]
    },
    {
      "cell_type": "markdown",
      "metadata": {
        "id": "jzDFGr97oAz3"
      },
      "source": [
        "**Six different tree based models are used as base model followed by a linear regression model which efficiently finds the weights for the combination of different models.these models when combined produces an effectively better score which puts us in top 1% at kaggle leaderboard.**"
      ]
    },
    {
      "cell_type": "markdown",
      "metadata": {
        "id": "nNoLW1VQoiuH"
      },
      "source": [
        "1)RandomForest Regressor\n",
        "\n",
        "2)XGBRegressor\n",
        "\n",
        "3)LGBMRegressor\n",
        "\n",
        "4)GRADIENTBOOSTINGRegressor\n",
        "\n",
        "5)CATBOOSTRegressor\n",
        "\n",
        "6)ADABOOSTRegressor\n",
        "\n",
        "\n"
      ]
    },
    {
      "cell_type": "code",
      "metadata": {
        "id": "1dT1_o0V5P1G"
      },
      "source": [
        "import optuna\n",
        "#from lofo import LOFOImportance,Dataset,plot_importance\n",
        "from sklearn.model_selection import KFold\n",
        "from sklearn.ensemble import RandomForestRegressor,GradientBoostingRegressor,AdaBoostRegressor\n",
        "from sklearn.model_selection import RandomizedSearchCV\n",
        "from sklearn.linear_model import LinearRegression,Lasso,ElasticNet\n",
        "from sklearn import tree\n",
        "import xgboost\n",
        "import lightgbm\n",
        "from catboost import CatBoostRegressor\n",
        "from lightgbm import LGBMRegressor\n",
        "from xgboost import XGBRegressor\n",
        "from sklearn.metrics import mean_squared_error\n",
        "from sklearn.model_selection import cross_val_score"
      ],
      "execution_count": null,
      "outputs": []
    },
    {
      "cell_type": "code",
      "metadata": {
        "id": "FdU3rW1I5Xd5"
      },
      "source": [
        "train_df=pd.read_csv('train_df_reg_users.csv')"
      ],
      "execution_count": null,
      "outputs": []
    },
    {
      "cell_type": "code",
      "metadata": {
        "id": "wU_kGb1c5bRw"
      },
      "source": [
        "validation_set=train_df[(train_df['day']>=18) & (train_df['day']<=19)] "
      ],
      "execution_count": null,
      "outputs": []
    },
    {
      "cell_type": "code",
      "metadata": {
        "id": "3wFmoASI5djA"
      },
      "source": [
        "train_df.drop(index=list(validation_set.index),axis=0,inplace=True)"
      ],
      "execution_count": null,
      "outputs": []
    },
    {
      "cell_type": "markdown",
      "metadata": {
        "id": "f66I3RhPnYjz"
      },
      "source": [
        "**Dropping off the columns which are not required for our predictions.**"
      ]
    },
    {
      "cell_type": "code",
      "metadata": {
        "id": "xikSlSbx5gk0"
      },
      "source": [
        "y_train=np.log1p(train_df['registered'])\n",
        "train_df.drop(['datetime','casual','count','registered','month','day','increasing_reg_users_2011'],axis=1,inplace=True)"
      ],
      "execution_count": null,
      "outputs": []
    },
    {
      "cell_type": "code",
      "metadata": {
        "id": "Zp04G8nw5ygL"
      },
      "source": [
        "y_valid=np.log1p(validation_set['registered'])\n",
        "validation_set.drop(['datetime','casual','count','registered','month','day','increasing_reg_users_2011'],axis=1,inplace=True)"
      ],
      "execution_count": null,
      "outputs": []
    },
    {
      "cell_type": "code",
      "metadata": {
        "id": "lu_mkUVx6BmZ"
      },
      "source": [
        "def objective(trial):\n",
        "\n",
        "  x,y=train_df,y_train\n",
        "  #n_estimators=int(trial.suggest_discrete_uniform('n_estimators',100,1200,100))\n",
        "  max_depth=int(trial.suggest_discrete_uniform('max_depth',10,30,1))\n",
        "  #subsample=trial.suggest_uniform('subsample',0.7,0.9)\n",
        "  #colsample_bytree=trial.suggest_uniform('colsample_bytree',0.5,0.6)\n",
        "  #colsample_bylevel=trial.suggest_uniform('colsample_bylevel',0.7,0.9)\n",
        "\n",
        "  clf=RandomForestRegressor(max_depth=max_depth)\n",
        "  score=cross_val_score(clf,x,y,scoring='neg_root_mean_squared_error',n_jobs=-1,cv=3)\n",
        "  rmsle_score=score.mean()\n",
        "\n",
        "  return rmsle_score"
      ],
      "execution_count": null,
      "outputs": []
    },
    {
      "cell_type": "code",
      "metadata": {
        "colab": {
          "base_uri": "https://localhost:8080/"
        },
        "id": "xn8sJIS76KuL",
        "outputId": "c7eef7bb-61d1-4851-a8b3-ab6c5c7675e6"
      },
      "source": [
        "study=optuna.create_study(direction='maximize')\n",
        "study.optimize(objective,n_trials=20)"
      ],
      "execution_count": null,
      "outputs": [
        {
          "output_type": "stream",
          "name": "stderr",
          "text": [
            "\u001b[32m[I 2021-09-07 06:10:15,177]\u001b[0m A new study created in memory with name: no-name-fe0c2aef-6890-4cf7-9531-7f1f303cf444\u001b[0m\n",
            "\u001b[32m[I 2021-09-07 06:10:20,853]\u001b[0m Trial 0 finished with value: -0.5495739592440417 and parameters: {'max_depth': 17.0}. Best is trial 0 with value: -0.5495739592440417.\u001b[0m\n",
            "\u001b[32m[I 2021-09-07 06:10:24,524]\u001b[0m Trial 1 finished with value: -0.5682227197223652 and parameters: {'max_depth': 10.0}. Best is trial 0 with value: -0.5495739592440417.\u001b[0m\n",
            "\u001b[32m[I 2021-09-07 06:10:30,676]\u001b[0m Trial 2 finished with value: -0.5487336369149364 and parameters: {'max_depth': 30.0}. Best is trial 2 with value: -0.5487336369149364.\u001b[0m\n",
            "\u001b[32m[I 2021-09-07 06:10:36,813]\u001b[0m Trial 3 finished with value: -0.5465519502270861 and parameters: {'max_depth': 28.0}. Best is trial 3 with value: -0.5465519502270861.\u001b[0m\n",
            "\u001b[32m[I 2021-09-07 06:10:40,503]\u001b[0m Trial 4 finished with value: -0.569520200072491 and parameters: {'max_depth': 10.0}. Best is trial 3 with value: -0.5465519502270861.\u001b[0m\n",
            "\u001b[32m[I 2021-09-07 06:10:45,728]\u001b[0m Trial 5 finished with value: -0.5503543310513328 and parameters: {'max_depth': 15.0}. Best is trial 3 with value: -0.5465519502270861.\u001b[0m\n",
            "\u001b[32m[I 2021-09-07 06:10:51,937]\u001b[0m Trial 6 finished with value: -0.549590116027976 and parameters: {'max_depth': 26.0}. Best is trial 3 with value: -0.5465519502270861.\u001b[0m\n",
            "\u001b[32m[I 2021-09-07 06:10:57,346]\u001b[0m Trial 7 finished with value: -0.5479681612292024 and parameters: {'max_depth': 16.0}. Best is trial 3 with value: -0.5465519502270861.\u001b[0m\n",
            "\u001b[32m[I 2021-09-07 06:11:01,002]\u001b[0m Trial 8 finished with value: -0.5677755037967107 and parameters: {'max_depth': 10.0}. Best is trial 3 with value: -0.5465519502270861.\u001b[0m\n",
            "\u001b[32m[I 2021-09-07 06:11:06,940]\u001b[0m Trial 9 finished with value: -0.5489441851080855 and parameters: {'max_depth': 20.0}. Best is trial 3 with value: -0.5465519502270861.\u001b[0m\n",
            "\u001b[32m[I 2021-09-07 06:11:13,119]\u001b[0m Trial 10 finished with value: -0.549589087951069 and parameters: {'max_depth': 27.0}. Best is trial 3 with value: -0.5465519502270861.\u001b[0m\n",
            "\u001b[32m[I 2021-09-07 06:11:19,231]\u001b[0m Trial 11 finished with value: -0.5526004616803825 and parameters: {'max_depth': 23.0}. Best is trial 3 with value: -0.5465519502270861.\u001b[0m\n",
            "\u001b[32m[I 2021-09-07 06:11:24,641]\u001b[0m Trial 12 finished with value: -0.5486846995116317 and parameters: {'max_depth': 16.0}. Best is trial 3 with value: -0.5465519502270861.\u001b[0m\n",
            "\u001b[32m[I 2021-09-07 06:11:30,599]\u001b[0m Trial 13 finished with value: -0.5500827410648714 and parameters: {'max_depth': 20.0}. Best is trial 3 with value: -0.5465519502270861.\u001b[0m\n",
            "\u001b[32m[I 2021-09-07 06:11:36,747]\u001b[0m Trial 14 finished with value: -0.5497301397837396 and parameters: {'max_depth': 23.0}. Best is trial 3 with value: -0.5465519502270861.\u001b[0m\n",
            "\u001b[32m[I 2021-09-07 06:11:41,694]\u001b[0m Trial 15 finished with value: -0.5508971934857259 and parameters: {'max_depth': 14.0}. Best is trial 3 with value: -0.5465519502270861.\u001b[0m\n",
            "\u001b[32m[I 2021-09-07 06:11:47,835]\u001b[0m Trial 16 finished with value: -0.54963273311307 and parameters: {'max_depth': 30.0}. Best is trial 3 with value: -0.5465519502270861.\u001b[0m\n",
            "\u001b[32m[I 2021-09-07 06:11:53,604]\u001b[0m Trial 17 finished with value: -0.5476880946740087 and parameters: {'max_depth': 18.0}. Best is trial 3 with value: -0.5465519502270861.\u001b[0m\n",
            "\u001b[32m[I 2021-09-07 06:11:59,704]\u001b[0m Trial 18 finished with value: -0.5472586229349102 and parameters: {'max_depth': 23.0}. Best is trial 3 with value: -0.5465519502270861.\u001b[0m\n",
            "\u001b[32m[I 2021-09-07 06:12:05,812]\u001b[0m Trial 19 finished with value: -0.5471838349929079 and parameters: {'max_depth': 24.0}. Best is trial 3 with value: -0.5465519502270861.\u001b[0m\n"
          ]
        }
      ]
    },
    {
      "cell_type": "code",
      "metadata": {
        "id": "SJ7urt7z6YSw"
      },
      "source": [
        "trial=study.best_trial"
      ],
      "execution_count": null,
      "outputs": []
    },
    {
      "cell_type": "code",
      "metadata": {
        "colab": {
          "base_uri": "https://localhost:8080/"
        },
        "id": "JDhwSojc7czL",
        "outputId": "eb32111c-4aba-4c7d-b886-de6b99b1cc36"
      },
      "source": [
        "trial.params"
      ],
      "execution_count": null,
      "outputs": [
        {
          "output_type": "execute_result",
          "data": {
            "text/plain": [
              "{'max_depth': 30.0}"
            ]
          },
          "metadata": {},
          "execution_count": 94
        }
      ]
    },
    {
      "cell_type": "code",
      "metadata": {
        "colab": {
          "base_uri": "https://localhost:8080/"
        },
        "id": "0nl96F-c7d86",
        "outputId": "b8e0a1c5-3058-4286-899c-58a624d86443"
      },
      "source": [
        "trial.values"
      ],
      "execution_count": null,
      "outputs": [
        {
          "output_type": "execute_result",
          "data": {
            "text/plain": [
              "[-0.5440604384971298]"
            ]
          },
          "metadata": {},
          "execution_count": 95
        }
      ]
    },
    {
      "cell_type": "code",
      "metadata": {
        "colab": {
          "base_uri": "https://localhost:8080/"
        },
        "id": "sBKoxZ1m7fQ5",
        "outputId": "6e55958d-580b-4b82-a2d4-eafc0c4cc1e2"
      },
      "source": [
        "rf_reg_rs=RandomForestRegressor(max_depth=30,n_estimators=100)\n",
        "rf_reg_rs.fit(train_df,y_train)"
      ],
      "execution_count": null,
      "outputs": [
        {
          "output_type": "execute_result",
          "data": {
            "text/plain": [
              "RandomForestRegressor(bootstrap=True, ccp_alpha=0.0, criterion='mse',\n",
              "                      max_depth=30, max_features='auto', max_leaf_nodes=None,\n",
              "                      max_samples=None, min_impurity_decrease=0.0,\n",
              "                      min_impurity_split=None, min_samples_leaf=1,\n",
              "                      min_samples_split=2, min_weight_fraction_leaf=0.0,\n",
              "                      n_estimators=100, n_jobs=None, oob_score=False,\n",
              "                      random_state=None, verbose=0, warm_start=False)"
            ]
          },
          "metadata": {},
          "execution_count": 96
        }
      ]
    },
    {
      "cell_type": "code",
      "metadata": {
        "id": "Pdi-osXd7qsQ"
      },
      "source": [
        "validation_pred=rf_reg_rs.predict(validation_set)\n",
        "valid_rf_df=pd.DataFrame(validation_pred,columns=['valid_rf_pred'])"
      ],
      "execution_count": null,
      "outputs": []
    },
    {
      "cell_type": "code",
      "metadata": {
        "id": "FGS1sVOp7-pf"
      },
      "source": [
        "#XGBREGRESSOR"
      ],
      "execution_count": null,
      "outputs": []
    },
    {
      "cell_type": "code",
      "metadata": {
        "id": "5SICCQaB8AE6"
      },
      "source": [
        "def objective(trial):\n",
        "\n",
        "  x,y=train_df,y_train\n",
        "  n_estimators=int(trial.suggest_discrete_uniform('n_estimators',1000,1200,20))\n",
        "  #max_depth=int(trial.suggest_discrete_uniform('max_depth',3,5,1))\n",
        "  subsample=trial.suggest_uniform('subsample',0.7,0.9)\n",
        "  colsample_bytree=trial.suggest_uniform('colsample_bytree',0.5,0.6)\n",
        "  colsample_bylevel=trial.suggest_uniform('colsample_bylevel',0.7,0.9)\n",
        "\n",
        "  clf=XGBRegressor(n_estimators=n_estimators,subsample=subsample,colsample_bytree=colsample_bytree,colsample_bylevel=colsample_bylevel)\n",
        "  score=cross_val_score(clf,x,y,scoring='neg_root_mean_squared_error',n_jobs=-1,cv=3)\n",
        "  rmsle_score=score.mean()\n",
        "\n",
        "  return rmsle_score"
      ],
      "execution_count": null,
      "outputs": []
    },
    {
      "cell_type": "code",
      "metadata": {
        "colab": {
          "base_uri": "https://localhost:8080/"
        },
        "id": "EMNIN9Ho8PLp",
        "outputId": "7f95483f-0be8-4c36-ca7d-df979a88e825"
      },
      "source": [
        "study=optuna.create_study(direction='maximize')\n",
        "study.optimize(objective,n_trials=20)"
      ],
      "execution_count": null,
      "outputs": [
        {
          "output_type": "stream",
          "name": "stderr",
          "text": [
            "\u001b[32m[I 2021-09-07 05:40:40,636]\u001b[0m A new study created in memory with name: no-name-ada57ca9-0a66-4038-ab93-7e5b91a420c3\u001b[0m\n",
            "\u001b[32m[I 2021-09-07 05:40:49,449]\u001b[0m Trial 0 finished with value: -0.38358271867567223 and parameters: {'n_estimators': 1200.0, 'subsample': 0.7333151587974961, 'colsample_bytree': 0.5496011189374541, 'colsample_bylevel': 0.8339733788204824}. Best is trial 0 with value: -0.38358271867567223.\u001b[0m\n",
            "\u001b[32m[I 2021-09-07 05:40:56,692]\u001b[0m Trial 1 finished with value: -0.39144053147036795 and parameters: {'n_estimators': 1060.0, 'subsample': 0.8600344201725152, 'colsample_bytree': 0.5492301686882016, 'colsample_bylevel': 0.786113200325492}. Best is trial 0 with value: -0.38358271867567223.\u001b[0m\n",
            "\u001b[32m[I 2021-09-07 05:41:04,700]\u001b[0m Trial 2 finished with value: -0.3948145465607458 and parameters: {'n_estimators': 1180.0, 'subsample': 0.8850788285356972, 'colsample_bytree': 0.5745018260404849, 'colsample_bylevel': 0.7614845871232951}. Best is trial 0 with value: -0.38358271867567223.\u001b[0m\n",
            "\u001b[32m[I 2021-09-07 05:41:12,064]\u001b[0m Trial 3 finished with value: -0.39086067432035493 and parameters: {'n_estimators': 1060.0, 'subsample': 0.8036485131673639, 'colsample_bytree': 0.5320387584402487, 'colsample_bylevel': 0.8893956904374084}. Best is trial 0 with value: -0.38358271867567223.\u001b[0m\n",
            "\u001b[32m[I 2021-09-07 05:41:20,363]\u001b[0m Trial 4 finished with value: -0.3951604422737461 and parameters: {'n_estimators': 1140.0, 'subsample': 0.8355839002112848, 'colsample_bytree': 0.5421949413527231, 'colsample_bylevel': 0.8731216749180438}. Best is trial 0 with value: -0.38358271867567223.\u001b[0m\n",
            "\u001b[32m[I 2021-09-07 05:41:27,872]\u001b[0m Trial 5 finished with value: -0.3902660392674803 and parameters: {'n_estimators': 1100.0, 'subsample': 0.8441414528954156, 'colsample_bytree': 0.566627090122247, 'colsample_bylevel': 0.8212757946563722}. Best is trial 0 with value: -0.38358271867567223.\u001b[0m\n",
            "\u001b[32m[I 2021-09-07 05:41:34,937]\u001b[0m Trial 6 finished with value: -0.38498005847027983 and parameters: {'n_estimators': 1000.0, 'subsample': 0.8109367692670103, 'colsample_bytree': 0.5978671736962119, 'colsample_bylevel': 0.7276060866241921}. Best is trial 0 with value: -0.38358271867567223.\u001b[0m\n",
            "\u001b[32m[I 2021-09-07 05:41:42,139]\u001b[0m Trial 7 finished with value: -0.3889548873587601 and parameters: {'n_estimators': 1080.0, 'subsample': 0.7921176657859583, 'colsample_bytree': 0.5017802918683846, 'colsample_bylevel': 0.8045062036746679}. Best is trial 0 with value: -0.38358271867567223.\u001b[0m\n",
            "\u001b[32m[I 2021-09-07 05:41:49,564]\u001b[0m Trial 8 finished with value: -0.38755024669319565 and parameters: {'n_estimators': 1140.0, 'subsample': 0.8206540024789586, 'colsample_bytree': 0.5117474856701129, 'colsample_bylevel': 0.7772079779878909}. Best is trial 0 with value: -0.38358271867567223.\u001b[0m\n",
            "\u001b[32m[I 2021-09-07 05:41:57,639]\u001b[0m Trial 9 finished with value: -0.39536688014816584 and parameters: {'n_estimators': 1180.0, 'subsample': 0.8521271613008009, 'colsample_bytree': 0.5473691344838235, 'colsample_bylevel': 0.7315116984748247}. Best is trial 0 with value: -0.38358271867567223.\u001b[0m\n",
            "\u001b[32m[I 2021-09-07 05:42:06,321]\u001b[0m Trial 10 finished with value: -0.38649573110093116 and parameters: {'n_estimators': 1200.0, 'subsample': 0.7201740334444607, 'colsample_bytree': 0.5242593883664698, 'colsample_bylevel': 0.8471554522665987}. Best is trial 0 with value: -0.38358271867567223.\u001b[0m\n",
            "\u001b[32m[I 2021-09-07 05:42:13,159]\u001b[0m Trial 11 finished with value: -0.40190151230169596 and parameters: {'n_estimators': 1000.0, 'subsample': 0.7536161917247429, 'colsample_bytree': 0.5968791933862693, 'colsample_bylevel': 0.7033188130134882}. Best is trial 0 with value: -0.38358271867567223.\u001b[0m\n",
            "\u001b[32m[I 2021-09-07 05:42:20,271]\u001b[0m Trial 12 finished with value: -0.3859856155286641 and parameters: {'n_estimators': 1000.0, 'subsample': 0.7589593571313391, 'colsample_bytree': 0.5975792941906879, 'colsample_bylevel': 0.8536316999797381}. Best is trial 0 with value: -0.38358271867567223.\u001b[0m\n",
            "\u001b[32m[I 2021-09-07 05:42:27,869]\u001b[0m Trial 13 finished with value: -0.3892186017331121 and parameters: {'n_estimators': 1040.0, 'subsample': 0.7101112361124189, 'colsample_bytree': 0.5677924255421294, 'colsample_bylevel': 0.7473278894931616}. Best is trial 0 with value: -0.38358271867567223.\u001b[0m\n",
            "\u001b[32m[I 2021-09-07 05:42:35,866]\u001b[0m Trial 14 finished with value: -0.3892838755106041 and parameters: {'n_estimators': 1120.0, 'subsample': 0.7723469702974, 'colsample_bytree': 0.5807891737925464, 'colsample_bylevel': 0.8254339702415558}. Best is trial 0 with value: -0.38358271867567223.\u001b[0m\n",
            "\u001b[32m[I 2021-09-07 05:42:43,251]\u001b[0m Trial 15 finished with value: -0.3828540846279318 and parameters: {'n_estimators': 1020.0, 'subsample': 0.7326449298976951, 'colsample_bytree': 0.5596404657324598, 'colsample_bylevel': 0.7204774929730215}. Best is trial 15 with value: -0.3828540846279318.\u001b[0m\n",
            "\u001b[32m[I 2021-09-07 05:42:50,300]\u001b[0m Trial 16 finished with value: -0.399862752500773 and parameters: {'n_estimators': 1040.0, 'subsample': 0.7419264635758768, 'colsample_bytree': 0.5588620480798445, 'colsample_bylevel': 0.7041907635250844}. Best is trial 15 with value: -0.3828540846279318.\u001b[0m\n",
            "\u001b[32m[I 2021-09-07 05:42:58,165]\u001b[0m Trial 17 finished with value: -0.3899265120370374 and parameters: {'n_estimators': 1160.0, 'subsample': 0.7295920833596655, 'colsample_bytree': 0.5345231194749331, 'colsample_bylevel': 0.8087298455719135}. Best is trial 15 with value: -0.3828540846279318.\u001b[0m\n",
            "\u001b[32m[I 2021-09-07 05:43:06,322]\u001b[0m Trial 18 finished with value: -0.3919741886982968 and parameters: {'n_estimators': 1100.0, 'subsample': 0.7023108593249856, 'colsample_bytree': 0.55832594454233, 'colsample_bylevel': 0.8394385728127307}. Best is trial 15 with value: -0.3828540846279318.\u001b[0m\n",
            "\u001b[32m[I 2021-09-07 05:43:14,768]\u001b[0m Trial 19 finished with value: -0.39355268761877565 and parameters: {'n_estimators': 1200.0, 'subsample': 0.773458199833941, 'colsample_bytree': 0.5795749031049192, 'colsample_bylevel': 0.7831460727799939}. Best is trial 15 with value: -0.3828540846279318.\u001b[0m\n"
          ]
        }
      ]
    },
    {
      "cell_type": "code",
      "metadata": {
        "id": "8hUCUcSZ8WLv"
      },
      "source": [
        "trial=study.best_trial"
      ],
      "execution_count": null,
      "outputs": []
    },
    {
      "cell_type": "code",
      "metadata": {
        "colab": {
          "base_uri": "https://localhost:8080/"
        },
        "id": "TJaP7SR88_rr",
        "outputId": "88880b5c-779f-4e3e-8045-793fb6abed8e"
      },
      "source": [
        "trial.value"
      ],
      "execution_count": null,
      "outputs": [
        {
          "output_type": "execute_result",
          "data": {
            "text/plain": [
              "-0.3828540846279318"
            ]
          },
          "metadata": {},
          "execution_count": 103
        }
      ]
    },
    {
      "cell_type": "code",
      "metadata": {
        "colab": {
          "base_uri": "https://localhost:8080/"
        },
        "id": "-KVNu2Pf9Bxq",
        "outputId": "634c5be8-b1b2-420e-8743-42a8c7c1a6d4"
      },
      "source": [
        "trial.params"
      ],
      "execution_count": null,
      "outputs": [
        {
          "output_type": "execute_result",
          "data": {
            "text/plain": [
              "{'colsample_bylevel': 0.7204774929730215,\n",
              " 'colsample_bytree': 0.5596404657324598,\n",
              " 'n_estimators': 1020.0,\n",
              " 'subsample': 0.7326449298976951}"
            ]
          },
          "metadata": {},
          "execution_count": 104
        }
      ]
    },
    {
      "cell_type": "code",
      "metadata": {
        "colab": {
          "base_uri": "https://localhost:8080/"
        },
        "id": "HdRK98IS9C2k",
        "outputId": "969f82f9-6adf-4dc0-eae7-e101bb3d5822"
      },
      "source": [
        "xgb_reg_modified=XGBRegressor(n_estimators=1020,subsample=0.732,colsample_bytree=0.559,colsample_bylevel=0.72)\n",
        "xgb_reg_modified.fit(train_df,y_train)"
      ],
      "execution_count": null,
      "outputs": [
        {
          "output_type": "stream",
          "name": "stdout",
          "text": [
            "[06:17:00] WARNING: /workspace/src/objective/regression_obj.cu:152: reg:linear is now deprecated in favor of reg:squarederror.\n"
          ]
        },
        {
          "output_type": "execute_result",
          "data": {
            "text/plain": [
              "XGBRegressor(base_score=0.5, booster='gbtree', colsample_bylevel=0.72,\n",
              "             colsample_bynode=1, colsample_bytree=0.559, gamma=0,\n",
              "             importance_type='gain', learning_rate=0.1, max_delta_step=0,\n",
              "             max_depth=3, min_child_weight=1, missing=None, n_estimators=1020,\n",
              "             n_jobs=1, nthread=None, objective='reg:linear', random_state=0,\n",
              "             reg_alpha=0, reg_lambda=1, scale_pos_weight=1, seed=None,\n",
              "             silent=None, subsample=0.732, verbosity=1)"
            ]
          },
          "metadata": {},
          "execution_count": 173
        }
      ]
    },
    {
      "cell_type": "code",
      "metadata": {
        "id": "TyM8maGn9PlX"
      },
      "source": [
        "validation_pred=xgb_reg_modified.predict(validation_set)\n",
        "valid_xgb_df=pd.DataFrame(validation_pred,columns=['valid_xgb_pred'])"
      ],
      "execution_count": null,
      "outputs": []
    },
    {
      "cell_type": "code",
      "metadata": {
        "id": "GSN-tXVp9ZWC"
      },
      "source": [
        "#LIGHTGBM"
      ],
      "execution_count": null,
      "outputs": []
    },
    {
      "cell_type": "code",
      "metadata": {
        "id": "bigRi-AT9dFg"
      },
      "source": [
        "def objective(trial):\n",
        "\n",
        "  x,y=train_df,y_train\n",
        " # n_estimators=int(trial.suggest_discrete_uniform('n_estimators',1000,1200,20))\n",
        "  max_depth=int(trial.suggest_discrete_uniform('max_depth',5,11,1))\n",
        "  #subsample=trial.suggest_uniform('subsample',0.7,0.9)\n",
        "  colsample_bytree=trial.suggest_uniform('colsample_bytree',0.4,0.5)\n",
        "  #colsample_bylevel=trial.suggest_uniform('colsample_bylevel',0.7,0.9)\n",
        "\n",
        "  clf=LGBMRegressor(max_depth=max_depth,colsample_bytree=colsample_bytree)\n",
        "  score=cross_val_score(clf,x,y,scoring='neg_root_mean_squared_error',n_jobs=-1,cv=3)\n",
        "  rmsle_score=score.mean()\n",
        "\n",
        "  return rmsle_score"
      ],
      "execution_count": null,
      "outputs": []
    },
    {
      "cell_type": "code",
      "metadata": {
        "colab": {
          "base_uri": "https://localhost:8080/"
        },
        "id": "VYh7c6zU9jrQ",
        "outputId": "de7b1cc0-2c7c-40d2-c5d0-a254099efbcd"
      },
      "source": [
        "study=optuna.create_study(direction='maximize')\n",
        "study.optimize(objective,n_trials=30)"
      ],
      "execution_count": null,
      "outputs": [
        {
          "output_type": "stream",
          "name": "stderr",
          "text": [
            "\u001b[32m[I 2021-09-07 05:44:14,602]\u001b[0m A new study created in memory with name: no-name-f4bd3ac1-b8ec-4b1f-b145-38cc68a204eb\u001b[0m\n",
            "\u001b[32m[I 2021-09-07 05:44:15,122]\u001b[0m Trial 0 finished with value: -0.41420750132702455 and parameters: {'max_depth': 11.0, 'colsample_bytree': 0.478168315214494}. Best is trial 0 with value: -0.41420750132702455.\u001b[0m\n",
            "\u001b[32m[I 2021-09-07 05:44:15,460]\u001b[0m Trial 1 finished with value: -0.40679611271757316 and parameters: {'max_depth': 7.0, 'colsample_bytree': 0.4023737868188303}. Best is trial 1 with value: -0.40679611271757316.\u001b[0m\n",
            "\u001b[32m[I 2021-09-07 05:44:15,785]\u001b[0m Trial 2 finished with value: -0.4113610418393649 and parameters: {'max_depth': 11.0, 'colsample_bytree': 0.44327095448149406}. Best is trial 1 with value: -0.40679611271757316.\u001b[0m\n",
            "\u001b[32m[I 2021-09-07 05:44:16,116]\u001b[0m Trial 3 finished with value: -0.4113610418393649 and parameters: {'max_depth': 11.0, 'colsample_bytree': 0.41228680802783674}. Best is trial 1 with value: -0.40679611271757316.\u001b[0m\n",
            "\u001b[32m[I 2021-09-07 05:44:16,410]\u001b[0m Trial 4 finished with value: -0.40486107796320553 and parameters: {'max_depth': 5.0, 'colsample_bytree': 0.4697913350723262}. Best is trial 4 with value: -0.40486107796320553.\u001b[0m\n",
            "\u001b[32m[I 2021-09-07 05:44:16,741]\u001b[0m Trial 5 finished with value: -0.40884757886380513 and parameters: {'max_depth': 7.0, 'colsample_bytree': 0.4619424000447113}. Best is trial 4 with value: -0.40486107796320553.\u001b[0m\n",
            "\u001b[32m[I 2021-09-07 05:44:17,035]\u001b[0m Trial 6 finished with value: -0.40486107796320553 and parameters: {'max_depth': 5.0, 'colsample_bytree': 0.46499858232657004}. Best is trial 4 with value: -0.40486107796320553.\u001b[0m\n",
            "\u001b[32m[I 2021-09-07 05:44:17,320]\u001b[0m Trial 7 finished with value: -0.40486107796320553 and parameters: {'max_depth': 5.0, 'colsample_bytree': 0.4639902444216105}. Best is trial 4 with value: -0.40486107796320553.\u001b[0m\n",
            "\u001b[32m[I 2021-09-07 05:44:17,635]\u001b[0m Trial 8 finished with value: -0.4066315885129916 and parameters: {'max_depth': 6.0, 'colsample_bytree': 0.44782226267742536}. Best is trial 4 with value: -0.40486107796320553.\u001b[0m\n",
            "\u001b[32m[I 2021-09-07 05:44:17,975]\u001b[0m Trial 9 finished with value: -0.41494668213062175 and parameters: {'max_depth': 10.0, 'colsample_bytree': 0.4958127591515253}. Best is trial 4 with value: -0.40486107796320553.\u001b[0m\n",
            "\u001b[32m[I 2021-09-07 05:44:18,300]\u001b[0m Trial 10 finished with value: -0.4122282603299814 and parameters: {'max_depth': 9.0, 'colsample_bytree': 0.42262614630944734}. Best is trial 4 with value: -0.40486107796320553.\u001b[0m\n",
            "\u001b[32m[I 2021-09-07 05:44:18,604]\u001b[0m Trial 11 finished with value: -0.40486107796320553 and parameters: {'max_depth': 5.0, 'colsample_bytree': 0.4833728397890855}. Best is trial 4 with value: -0.40486107796320553.\u001b[0m\n",
            "\u001b[32m[I 2021-09-07 05:44:18,929]\u001b[0m Trial 12 finished with value: -0.40495071086733486 and parameters: {'max_depth': 6.0, 'colsample_bytree': 0.46595972770008937}. Best is trial 4 with value: -0.40486107796320553.\u001b[0m\n",
            "\u001b[32m[I 2021-09-07 05:44:19,206]\u001b[0m Trial 13 finished with value: -0.41337555698526945 and parameters: {'max_depth': 5.0, 'colsample_bytree': 0.44257429908398027}. Best is trial 4 with value: -0.40486107796320553.\u001b[0m\n",
            "\u001b[32m[I 2021-09-07 05:44:19,555]\u001b[0m Trial 14 finished with value: -0.41317905714445513 and parameters: {'max_depth': 8.0, 'colsample_bytree': 0.48372687048961877}. Best is trial 4 with value: -0.40486107796320553.\u001b[0m\n",
            "\u001b[32m[I 2021-09-07 05:44:19,871]\u001b[0m Trial 15 finished with value: -0.40495071086733486 and parameters: {'max_depth': 6.0, 'colsample_bytree': 0.4985748142296751}. Best is trial 4 with value: -0.40486107796320553.\u001b[0m\n",
            "\u001b[32m[I 2021-09-07 05:44:20,188]\u001b[0m Trial 16 finished with value: -0.40679611271757316 and parameters: {'max_depth': 7.0, 'colsample_bytree': 0.4318195432877717}. Best is trial 4 with value: -0.40486107796320553.\u001b[0m\n",
            "\u001b[32m[I 2021-09-07 05:44:20,534]\u001b[0m Trial 17 finished with value: -0.41317905714445513 and parameters: {'max_depth': 8.0, 'colsample_bytree': 0.4808021927406458}. Best is trial 4 with value: -0.40486107796320553.\u001b[0m\n",
            "\u001b[32m[I 2021-09-07 05:44:20,813]\u001b[0m Trial 18 finished with value: -0.41337555698526945 and parameters: {'max_depth': 5.0, 'colsample_bytree': 0.4561751802538645}. Best is trial 4 with value: -0.40486107796320553.\u001b[0m\n",
            "\u001b[32m[I 2021-09-07 05:44:21,136]\u001b[0m Trial 19 finished with value: -0.40495071086733486 and parameters: {'max_depth': 6.0, 'colsample_bytree': 0.4881109870515106}. Best is trial 4 with value: -0.40486107796320553.\u001b[0m\n",
            "\u001b[32m[I 2021-09-07 05:44:21,476]\u001b[0m Trial 20 finished with value: -0.40884757886380513 and parameters: {'max_depth': 7.0, 'colsample_bytree': 0.47014791916077303}. Best is trial 4 with value: -0.40486107796320553.\u001b[0m\n",
            "\u001b[32m[I 2021-09-07 05:44:21,763]\u001b[0m Trial 21 finished with value: -0.40486107796320553 and parameters: {'max_depth': 5.0, 'colsample_bytree': 0.47189989567071333}. Best is trial 4 with value: -0.40486107796320553.\u001b[0m\n",
            "\u001b[32m[I 2021-09-07 05:44:22,048]\u001b[0m Trial 22 finished with value: -0.40486107796320553 and parameters: {'max_depth': 5.0, 'colsample_bytree': 0.4714514514021534}. Best is trial 4 with value: -0.40486107796320553.\u001b[0m\n",
            "\u001b[32m[I 2021-09-07 05:44:22,353]\u001b[0m Trial 23 finished with value: -0.4066315885129916 and parameters: {'max_depth': 6.0, 'colsample_bytree': 0.454337053023261}. Best is trial 4 with value: -0.40486107796320553.\u001b[0m\n",
            "\u001b[32m[I 2021-09-07 05:44:22,654]\u001b[0m Trial 24 finished with value: -0.40486107796320553 and parameters: {'max_depth': 5.0, 'colsample_bytree': 0.4764354247050705}. Best is trial 4 with value: -0.40486107796320553.\u001b[0m\n",
            "\u001b[32m[I 2021-09-07 05:44:22,972]\u001b[0m Trial 25 finished with value: -0.40495071086733486 and parameters: {'max_depth': 6.0, 'colsample_bytree': 0.47779119812669046}. Best is trial 4 with value: -0.40486107796320553.\u001b[0m\n",
            "\u001b[32m[I 2021-09-07 05:44:23,323]\u001b[0m Trial 26 finished with value: -0.41387860233115964 and parameters: {'max_depth': 9.0, 'colsample_bytree': 0.49036742716158144}. Best is trial 4 with value: -0.40486107796320553.\u001b[0m\n",
            "\u001b[32m[I 2021-09-07 05:44:23,621]\u001b[0m Trial 27 finished with value: -0.40486107796320553 and parameters: {'max_depth': 5.0, 'colsample_bytree': 0.48781316401437647}. Best is trial 4 with value: -0.40486107796320553.\u001b[0m\n",
            "\u001b[32m[I 2021-09-07 05:44:23,941]\u001b[0m Trial 28 finished with value: -0.40495071086733486 and parameters: {'max_depth': 6.0, 'colsample_bytree': 0.4908551518509623}. Best is trial 4 with value: -0.40486107796320553.\u001b[0m\n",
            "\u001b[32m[I 2021-09-07 05:44:24,280]\u001b[0m Trial 29 finished with value: -0.41317905714445513 and parameters: {'max_depth': 8.0, 'colsample_bytree': 0.4688505162886636}. Best is trial 4 with value: -0.40486107796320553.\u001b[0m\n"
          ]
        }
      ]
    },
    {
      "cell_type": "code",
      "metadata": {
        "id": "T_cR-B8u9oar"
      },
      "source": [
        "trial=study.best_trial"
      ],
      "execution_count": null,
      "outputs": []
    },
    {
      "cell_type": "code",
      "metadata": {
        "colab": {
          "base_uri": "https://localhost:8080/"
        },
        "id": "vn6RlaQj9t6V",
        "outputId": "a591508d-2e28-4c3f-aed2-09a42fb6d5d9"
      },
      "source": [
        "trial.value"
      ],
      "execution_count": null,
      "outputs": [
        {
          "output_type": "execute_result",
          "data": {
            "text/plain": [
              "-0.40486107796320553"
            ]
          },
          "metadata": {},
          "execution_count": 110
        }
      ]
    },
    {
      "cell_type": "code",
      "metadata": {
        "colab": {
          "base_uri": "https://localhost:8080/"
        },
        "id": "K1Z06Cqq9vY2",
        "outputId": "5779c248-6e8c-487a-93f8-75f80f36540d"
      },
      "source": [
        "trial.params"
      ],
      "execution_count": null,
      "outputs": [
        {
          "output_type": "execute_result",
          "data": {
            "text/plain": [
              "{'colsample_bytree': 0.4697913350723262, 'max_depth': 5.0}"
            ]
          },
          "metadata": {},
          "execution_count": 111
        }
      ]
    },
    {
      "cell_type": "code",
      "metadata": {
        "colab": {
          "base_uri": "https://localhost:8080/"
        },
        "id": "tG1SUzEe9wud",
        "outputId": "7ad803bc-f5ba-48c9-b41e-29a390892dad"
      },
      "source": [
        "lgb_reg_modified=LGBMRegressor(n_estimators=100,max_depth=5,colsample_bytree=0.469)\n",
        "lgb_reg_modified.fit(train_df,y_train)"
      ],
      "execution_count": null,
      "outputs": [
        {
          "output_type": "execute_result",
          "data": {
            "text/plain": [
              "LGBMRegressor(boosting_type='gbdt', class_weight=None, colsample_bytree=0.469,\n",
              "              importance_type='split', learning_rate=0.1, max_depth=5,\n",
              "              min_child_samples=20, min_child_weight=0.001, min_split_gain=0.0,\n",
              "              n_estimators=100, n_jobs=-1, num_leaves=31, objective=None,\n",
              "              random_state=None, reg_alpha=0.0, reg_lambda=0.0, silent=True,\n",
              "              subsample=1.0, subsample_for_bin=200000, subsample_freq=0)"
            ]
          },
          "metadata": {},
          "execution_count": 175
        }
      ]
    },
    {
      "cell_type": "code",
      "metadata": {
        "id": "WA0bHXRO95RO"
      },
      "source": [
        "validation_pred=lgb_reg_modified.predict(validation_set)\n",
        "valid_lgb_df=pd.DataFrame(validation_pred,columns=['valid_lgb_pred'])"
      ],
      "execution_count": null,
      "outputs": []
    },
    {
      "cell_type": "code",
      "metadata": {
        "id": "FKE65AbY9_XB"
      },
      "source": [
        "#GRADIENTBOOSTINGREGRESSOR"
      ],
      "execution_count": null,
      "outputs": []
    },
    {
      "cell_type": "code",
      "metadata": {
        "id": "xwL-yV6o-DVm"
      },
      "source": [
        "def objective(trial):\n",
        "\n",
        "  x,y=train_df,y_train\n",
        "  n_estimators=int(trial.suggest_discrete_uniform('n_estimators',300,400,10))\n",
        "  #max_depth=int(trial.suggest_discrete_uniform('max_depth',3,15,1))\n",
        "  subsample=trial.suggest_uniform('subsample',0.5,0.55)\n",
        "  #colsample_bytree=trial.suggest_uniform('colsample_bytree',0.5,0.6)\n",
        "  #colsample_bylevel=trial.suggest_uniform('colsample_bylevel',0.7,0.9)\n",
        "\n",
        "  clf=GradientBoostingRegressor(n_estimators=n_estimators,subsample=subsample)\n",
        "  score=cross_val_score(clf,x,y,scoring='neg_root_mean_squared_error',n_jobs=-1,cv=3)\n",
        "  rmsle_score=score.mean()\n",
        "\n",
        "  return rmsle_score"
      ],
      "execution_count": null,
      "outputs": []
    },
    {
      "cell_type": "code",
      "metadata": {
        "colab": {
          "base_uri": "https://localhost:8080/"
        },
        "id": "kxLRxkQa-Hsc",
        "outputId": "c53fcda6-c721-43ef-ef63-9dd1777ffc94"
      },
      "source": [
        "study=optuna.create_study(direction='maximize')\n",
        "study.optimize(objective,n_trials=20)"
      ],
      "execution_count": null,
      "outputs": [
        {
          "output_type": "stream",
          "name": "stderr",
          "text": [
            "\u001b[32m[I 2021-09-07 05:52:13,115]\u001b[0m A new study created in memory with name: no-name-e7ad595d-b4b7-4076-b665-ac7dded60a26\u001b[0m\n",
            "\u001b[32m[I 2021-09-07 05:52:18,046]\u001b[0m Trial 0 finished with value: -0.433199417587072 and parameters: {'n_estimators': 320.0, 'subsample': 0.5167132736687742}. Best is trial 0 with value: -0.433199417587072.\u001b[0m\n",
            "\u001b[32m[I 2021-09-07 05:52:21,651]\u001b[0m Trial 1 finished with value: -0.43725197209179106 and parameters: {'n_estimators': 320.0, 'subsample': 0.5326657066072495}. Best is trial 0 with value: -0.433199417587072.\u001b[0m\n",
            "\u001b[32m[I 2021-09-07 05:52:24,937]\u001b[0m Trial 2 finished with value: -0.4276888540711686 and parameters: {'n_estimators': 300.0, 'subsample': 0.5140424132703658}. Best is trial 2 with value: -0.4276888540711686.\u001b[0m\n",
            "\u001b[32m[I 2021-09-07 05:52:29,391]\u001b[0m Trial 3 finished with value: -0.4271413129943067 and parameters: {'n_estimators': 390.0, 'subsample': 0.5439249757709346}. Best is trial 3 with value: -0.4271413129943067.\u001b[0m\n",
            "\u001b[32m[I 2021-09-07 05:52:33,289]\u001b[0m Trial 4 finished with value: -0.410957637048974 and parameters: {'n_estimators': 360.0, 'subsample': 0.5010427459102704}. Best is trial 4 with value: -0.410957637048974.\u001b[0m\n",
            "\u001b[32m[I 2021-09-07 05:52:37,419]\u001b[0m Trial 5 finished with value: -0.4281227469595066 and parameters: {'n_estimators': 370.0, 'subsample': 0.5363605121778644}. Best is trial 4 with value: -0.410957637048974.\u001b[0m\n",
            "\u001b[32m[I 2021-09-07 05:52:40,727]\u001b[0m Trial 6 finished with value: -0.4303119288379323 and parameters: {'n_estimators': 300.0, 'subsample': 0.5188913616769457}. Best is trial 4 with value: -0.410957637048974.\u001b[0m\n",
            "\u001b[32m[I 2021-09-07 05:52:45,222]\u001b[0m Trial 7 finished with value: -0.41467114077887346 and parameters: {'n_estimators': 400.0, 'subsample': 0.5296008915583342}. Best is trial 4 with value: -0.410957637048974.\u001b[0m\n",
            "\u001b[32m[I 2021-09-07 05:52:49,434]\u001b[0m Trial 8 finished with value: -0.43079155093580973 and parameters: {'n_estimators': 380.0, 'subsample': 0.524748230938973}. Best is trial 4 with value: -0.410957637048974.\u001b[0m\n",
            "\u001b[32m[I 2021-09-07 05:52:53,663]\u001b[0m Trial 9 finished with value: -0.4206492528567117 and parameters: {'n_estimators': 380.0, 'subsample': 0.5245074969088086}. Best is trial 4 with value: -0.410957637048974.\u001b[0m\n",
            "\u001b[32m[I 2021-09-07 05:52:57,432]\u001b[0m Trial 10 finished with value: -0.42481991985222994 and parameters: {'n_estimators': 350.0, 'subsample': 0.5027200872781536}. Best is trial 4 with value: -0.410957637048974.\u001b[0m\n",
            "\u001b[32m[I 2021-09-07 05:53:01,748]\u001b[0m Trial 11 finished with value: -0.4334398091159794 and parameters: {'n_estimators': 400.0, 'subsample': 0.5000442915307065}. Best is trial 4 with value: -0.410957637048974.\u001b[0m\n",
            "\u001b[32m[I 2021-09-07 05:53:05,655]\u001b[0m Trial 12 finished with value: -0.4121928362540954 and parameters: {'n_estimators': 360.0, 'subsample': 0.5086765407477861}. Best is trial 4 with value: -0.410957637048974.\u001b[0m\n",
            "\u001b[32m[I 2021-09-07 05:53:09,475]\u001b[0m Trial 13 finished with value: -0.42753724182948577 and parameters: {'n_estimators': 350.0, 'subsample': 0.5082427548271856}. Best is trial 4 with value: -0.410957637048974.\u001b[0m\n",
            "\u001b[32m[I 2021-09-07 05:53:13,343]\u001b[0m Trial 14 finished with value: -0.4314345602462135 and parameters: {'n_estimators': 360.0, 'subsample': 0.507724266242287}. Best is trial 4 with value: -0.410957637048974.\u001b[0m\n",
            "\u001b[32m[I 2021-09-07 05:53:17,016]\u001b[0m Trial 15 finished with value: -0.427792114593919 and parameters: {'n_estimators': 340.0, 'subsample': 0.5058846218623624}. Best is trial 4 with value: -0.410957637048974.\u001b[0m\n",
            "\u001b[32m[I 2021-09-07 05:53:20,649]\u001b[0m Trial 16 finished with value: -0.437489949697963 and parameters: {'n_estimators': 330.0, 'subsample': 0.5114244022725354}. Best is trial 4 with value: -0.410957637048974.\u001b[0m\n",
            "\u001b[32m[I 2021-09-07 05:53:24,657]\u001b[0m Trial 17 finished with value: -0.43271393100458644 and parameters: {'n_estimators': 360.0, 'subsample': 0.5192828413866536}. Best is trial 4 with value: -0.410957637048974.\u001b[0m\n",
            "\u001b[32m[I 2021-09-07 05:53:28,538]\u001b[0m Trial 18 finished with value: -0.41814070919259455 and parameters: {'n_estimators': 360.0, 'subsample': 0.5004195196685465}. Best is trial 4 with value: -0.410957637048974.\u001b[0m\n",
            "\u001b[32m[I 2021-09-07 05:53:32,284]\u001b[0m Trial 19 finished with value: -0.4235557772386815 and parameters: {'n_estimators': 340.0, 'subsample': 0.5098791747022029}. Best is trial 4 with value: -0.410957637048974.\u001b[0m\n"
          ]
        }
      ]
    },
    {
      "cell_type": "code",
      "metadata": {
        "id": "30Zqx0zD-NHJ"
      },
      "source": [
        "trial=study.best_trial"
      ],
      "execution_count": null,
      "outputs": []
    },
    {
      "cell_type": "code",
      "metadata": {
        "colab": {
          "base_uri": "https://localhost:8080/"
        },
        "id": "BddaNoUcAI0_",
        "outputId": "1bc0be88-0f97-49dd-c47e-19101f5968f3"
      },
      "source": [
        "trial.value"
      ],
      "execution_count": null,
      "outputs": [
        {
          "output_type": "execute_result",
          "data": {
            "text/plain": [
              "-0.40864715463079443"
            ]
          },
          "metadata": {},
          "execution_count": 35
        }
      ]
    },
    {
      "cell_type": "code",
      "metadata": {
        "colab": {
          "base_uri": "https://localhost:8080/"
        },
        "id": "FH45L8wDAKCS",
        "outputId": "d6d0bcbc-11bc-487f-e19b-f0f023ad2baf"
      },
      "source": [
        "trial.params"
      ],
      "execution_count": null,
      "outputs": [
        {
          "output_type": "execute_result",
          "data": {
            "text/plain": [
              "{'n_estimators': 320.0, 'subsample': 0.5159483091415967}"
            ]
          },
          "metadata": {},
          "execution_count": 36
        }
      ]
    },
    {
      "cell_type": "code",
      "metadata": {
        "colab": {
          "base_uri": "https://localhost:8080/"
        },
        "id": "9gdeFl2RAMf1",
        "outputId": "175b5d5d-92ed-4a2d-a75e-aee2fb18b4a8"
      },
      "source": [
        "gb_reg_modified=GradientBoostingRegressor(n_estimators=360,max_depth=3,subsample=0.501)\n",
        "gb_reg_modified.fit(train_df,y_train)"
      ],
      "execution_count": null,
      "outputs": [
        {
          "output_type": "execute_result",
          "data": {
            "text/plain": [
              "GradientBoostingRegressor(alpha=0.9, ccp_alpha=0.0, criterion='friedman_mse',\n",
              "                          init=None, learning_rate=0.1, loss='ls', max_depth=3,\n",
              "                          max_features=None, max_leaf_nodes=None,\n",
              "                          min_impurity_decrease=0.0, min_impurity_split=None,\n",
              "                          min_samples_leaf=1, min_samples_split=2,\n",
              "                          min_weight_fraction_leaf=0.0, n_estimators=360,\n",
              "                          n_iter_no_change=None, presort='deprecated',\n",
              "                          random_state=None, subsample=0.501, tol=0.0001,\n",
              "                          validation_fraction=0.1, verbose=0, warm_start=False)"
            ]
          },
          "metadata": {},
          "execution_count": 177
        }
      ]
    },
    {
      "cell_type": "code",
      "metadata": {
        "id": "cQd5gNajAWt6"
      },
      "source": [
        "validation_pred=gb_reg_modified.predict(validation_set)\n",
        "valid_gb_df=pd.DataFrame(validation_pred,columns=['valid_gb_pred'])"
      ],
      "execution_count": null,
      "outputs": []
    },
    {
      "cell_type": "code",
      "metadata": {
        "id": "jcAXYGe-Acrz"
      },
      "source": [
        "#CATBOOSTREGRESSOR"
      ],
      "execution_count": null,
      "outputs": []
    },
    {
      "cell_type": "code",
      "metadata": {
        "id": "kSAeSwrrAite"
      },
      "source": [
        "def objective(trial):\n",
        "\n",
        "  x,y=train_df,y_train\n",
        "  n_estimators=int(trial.suggest_discrete_uniform('n_estimators',100,1200,100))\n",
        "  max_depth=int(trial.suggest_discrete_uniform('max_depth',3,10,1))\n",
        "  #subsample=trial.suggest_uniform('subsample',0.7,0.9)\n",
        "  #colsample_bytree=trial.suggest_uniform('colsample_bytree',0.5,0.6)\n",
        "  #colsample_bylevel=trial.suggest_uniform('colsample_bylevel',0.7,0.9)\n",
        "\n",
        "  clf=CatBoostRegressor(max_depth=max_depth,n_estimators=n_estimators)\n",
        "  score=cross_val_score(clf,x,y,scoring='neg_root_mean_squared_error',n_jobs=-1,cv=3)\n",
        "  rmsle_score=score.mean()\n",
        "\n",
        "  return rmsle_score"
      ],
      "execution_count": null,
      "outputs": []
    },
    {
      "cell_type": "code",
      "metadata": {
        "colab": {
          "base_uri": "https://localhost:8080/"
        },
        "id": "tftOTQGkAoZY",
        "outputId": "4b24fe8e-0aa3-4dd0-a643-349a98711f7d"
      },
      "source": [
        "study=optuna.create_study(direction='maximize')\n",
        "study.optimize(objective,n_trials=15)"
      ],
      "execution_count": null,
      "outputs": [
        {
          "output_type": "stream",
          "name": "stderr",
          "text": [
            "\u001b[32m[I 2021-09-07 05:54:58,200]\u001b[0m A new study created in memory with name: no-name-dc201c32-f9d4-483e-8c06-a362104a0332\u001b[0m\n",
            "\u001b[32m[I 2021-09-07 05:55:14,483]\u001b[0m Trial 0 finished with value: -0.532409063119348 and parameters: {'n_estimators': 500.0, 'max_depth': 10.0}. Best is trial 0 with value: -0.532409063119348.\u001b[0m\n",
            "\u001b[32m[I 2021-09-07 05:55:16,679]\u001b[0m Trial 1 finished with value: -0.45254660932458285 and parameters: {'n_estimators': 300.0, 'max_depth': 6.0}. Best is trial 1 with value: -0.45254660932458285.\u001b[0m\n",
            "\u001b[32m[I 2021-09-07 05:55:50,340]\u001b[0m Trial 2 finished with value: -0.5154996590266899 and parameters: {'n_estimators': 1100.0, 'max_depth': 10.0}. Best is trial 1 with value: -0.45254660932458285.\u001b[0m\n",
            "/usr/local/lib/python3.7/dist-packages/joblib/externals/loky/process_executor.py:691: UserWarning:\n",
            "\n",
            "A worker stopped while some jobs were given to the executor. This can be caused by a too short worker timeout or by a memory leak.\n",
            "\n",
            "\u001b[32m[I 2021-09-07 05:55:51,140]\u001b[0m Trial 3 finished with value: -0.41776699248598864 and parameters: {'n_estimators': 100.0, 'max_depth': 3.0}. Best is trial 3 with value: -0.41776699248598864.\u001b[0m\n",
            "\u001b[32m[I 2021-09-07 05:55:54,735]\u001b[0m Trial 4 finished with value: -0.4261755493871176 and parameters: {'n_estimators': 400.0, 'max_depth': 6.0}. Best is trial 3 with value: -0.41776699248598864.\u001b[0m\n",
            "\u001b[32m[I 2021-09-07 05:55:56,468]\u001b[0m Trial 5 finished with value: -0.4271618116093589 and parameters: {'n_estimators': 300.0, 'max_depth': 5.0}. Best is trial 3 with value: -0.41776699248598864.\u001b[0m\n",
            "\u001b[32m[I 2021-09-07 05:55:58,638]\u001b[0m Trial 6 finished with value: -0.4416774834479357 and parameters: {'n_estimators': 400.0, 'max_depth': 4.0}. Best is trial 3 with value: -0.41776699248598864.\u001b[0m\n",
            "\u001b[32m[I 2021-09-07 05:56:00,399]\u001b[0m Trial 7 finished with value: -0.44559682675734164 and parameters: {'n_estimators': 400.0, 'max_depth': 3.0}. Best is trial 3 with value: -0.41776699248598864.\u001b[0m\n",
            "\u001b[32m[I 2021-09-07 05:56:07,436]\u001b[0m Trial 8 finished with value: -0.43603001724229257 and parameters: {'n_estimators': 1200.0, 'max_depth': 5.0}. Best is trial 3 with value: -0.41776699248598864.\u001b[0m\n",
            "\u001b[32m[I 2021-09-07 05:56:08,896]\u001b[0m Trial 9 finished with value: -0.4453153939288354 and parameters: {'n_estimators': 300.0, 'max_depth': 4.0}. Best is trial 3 with value: -0.41776699248598864.\u001b[0m\n",
            "\u001b[32m[I 2021-09-07 05:56:10,167]\u001b[0m Trial 10 finished with value: -0.46079107446748546 and parameters: {'n_estimators': 100.0, 'max_depth': 8.0}. Best is trial 3 with value: -0.41776699248598864.\u001b[0m\n",
            "\u001b[32m[I 2021-09-07 05:56:20,576]\u001b[0m Trial 11 finished with value: -0.46624690905903554 and parameters: {'n_estimators': 800.0, 'max_depth': 8.0}. Best is trial 3 with value: -0.41776699248598864.\u001b[0m\n",
            "\u001b[32m[I 2021-09-07 05:56:21,552]\u001b[0m Trial 12 finished with value: -0.45250959408052976 and parameters: {'n_estimators': 100.0, 'max_depth': 7.0}. Best is trial 3 with value: -0.41776699248598864.\u001b[0m\n",
            "\u001b[32m[I 2021-09-07 05:56:24,702]\u001b[0m Trial 13 finished with value: -0.4445077402572117 and parameters: {'n_estimators': 700.0, 'max_depth': 3.0}. Best is trial 3 with value: -0.41776699248598864.\u001b[0m\n",
            "\u001b[32m[I 2021-09-07 05:56:25,444]\u001b[0m Trial 14 finished with value: -0.4393444374303708 and parameters: {'n_estimators': 100.0, 'max_depth': 6.0}. Best is trial 3 with value: -0.41776699248598864.\u001b[0m\n"
          ]
        }
      ]
    },
    {
      "cell_type": "code",
      "metadata": {
        "id": "Qesy5l84Aqxl"
      },
      "source": [
        "trial=study.best_trial"
      ],
      "execution_count": null,
      "outputs": []
    },
    {
      "cell_type": "code",
      "metadata": {
        "colab": {
          "base_uri": "https://localhost:8080/"
        },
        "id": "jdPPhKfnBacT",
        "outputId": "d26fb945-51c3-42f8-8577-5ede630274c4"
      },
      "source": [
        "trial.value"
      ],
      "execution_count": null,
      "outputs": [
        {
          "output_type": "execute_result",
          "data": {
            "text/plain": [
              "-0.41776699248598864"
            ]
          },
          "metadata": {},
          "execution_count": 133
        }
      ]
    },
    {
      "cell_type": "code",
      "metadata": {
        "colab": {
          "base_uri": "https://localhost:8080/"
        },
        "id": "OYsk1jShBbvE",
        "outputId": "7c80ab20-0a7e-486c-9722-00fdd6845277"
      },
      "source": [
        "trial.params"
      ],
      "execution_count": null,
      "outputs": [
        {
          "output_type": "execute_result",
          "data": {
            "text/plain": [
              "{'max_depth': 3.0, 'n_estimators': 100.0}"
            ]
          },
          "metadata": {},
          "execution_count": 134
        }
      ]
    },
    {
      "cell_type": "code",
      "metadata": {
        "id": "PDLhBRaJBdgV",
        "colab": {
          "base_uri": "https://localhost:8080/"
        },
        "outputId": "72ae1815-a13e-46ae-cc04-4243ac736731"
      },
      "source": [
        "cat_reg_modified=CatBoostRegressor(max_depth=3,n_estimators=100)\n",
        "cat_reg_modified.fit(train_df,y_train)"
      ],
      "execution_count": null,
      "outputs": [
        {
          "output_type": "stream",
          "name": "stdout",
          "text": [
            "Learning rate set to 0.336843\n",
            "0:\tlearn: 1.1049205\ttotal: 5.85ms\tremaining: 579ms\n",
            "1:\tlearn: 0.9205962\ttotal: 8.53ms\tremaining: 418ms\n",
            "2:\tlearn: 0.8078039\ttotal: 10.6ms\tremaining: 342ms\n",
            "3:\tlearn: 0.7213302\ttotal: 13.4ms\tremaining: 321ms\n",
            "4:\tlearn: 0.6615261\ttotal: 16.1ms\tremaining: 306ms\n",
            "5:\tlearn: 0.6232639\ttotal: 18.9ms\tremaining: 296ms\n",
            "6:\tlearn: 0.5860473\ttotal: 21.8ms\tremaining: 289ms\n",
            "7:\tlearn: 0.5651049\ttotal: 24.7ms\tremaining: 284ms\n",
            "8:\tlearn: 0.5477575\ttotal: 27.6ms\tremaining: 279ms\n",
            "9:\tlearn: 0.5152362\ttotal: 30.5ms\tremaining: 275ms\n",
            "10:\tlearn: 0.4992060\ttotal: 33.3ms\tremaining: 270ms\n",
            "11:\tlearn: 0.4886255\ttotal: 36.2ms\tremaining: 265ms\n",
            "12:\tlearn: 0.4722805\ttotal: 39ms\tremaining: 261ms\n",
            "13:\tlearn: 0.4588357\ttotal: 41.9ms\tremaining: 257ms\n",
            "14:\tlearn: 0.4524359\ttotal: 44.6ms\tremaining: 253ms\n",
            "15:\tlearn: 0.4485181\ttotal: 47.4ms\tremaining: 249ms\n",
            "16:\tlearn: 0.4444079\ttotal: 50.1ms\tremaining: 245ms\n",
            "17:\tlearn: 0.4404314\ttotal: 53.7ms\tremaining: 245ms\n",
            "18:\tlearn: 0.4345321\ttotal: 55.7ms\tremaining: 238ms\n",
            "19:\tlearn: 0.4234195\ttotal: 58.6ms\tremaining: 234ms\n",
            "20:\tlearn: 0.4104515\ttotal: 61.4ms\tremaining: 231ms\n",
            "21:\tlearn: 0.4060551\ttotal: 64.3ms\tremaining: 228ms\n",
            "22:\tlearn: 0.4035239\ttotal: 68.1ms\tremaining: 228ms\n",
            "23:\tlearn: 0.3974003\ttotal: 70.3ms\tremaining: 223ms\n",
            "24:\tlearn: 0.3928898\ttotal: 73.2ms\tremaining: 220ms\n",
            "25:\tlearn: 0.3857782\ttotal: 76.2ms\tremaining: 217ms\n",
            "26:\tlearn: 0.3841126\ttotal: 79ms\tremaining: 214ms\n",
            "27:\tlearn: 0.3810176\ttotal: 81.9ms\tremaining: 211ms\n",
            "28:\tlearn: 0.3759789\ttotal: 83.5ms\tremaining: 205ms\n",
            "29:\tlearn: 0.3721132\ttotal: 85.1ms\tremaining: 199ms\n",
            "30:\tlearn: 0.3699602\ttotal: 86.6ms\tremaining: 193ms\n",
            "31:\tlearn: 0.3683372\ttotal: 88.1ms\tremaining: 187ms\n",
            "32:\tlearn: 0.3636270\ttotal: 89.5ms\tremaining: 182ms\n",
            "33:\tlearn: 0.3600814\ttotal: 91ms\tremaining: 177ms\n",
            "34:\tlearn: 0.3573297\ttotal: 92.4ms\tremaining: 172ms\n",
            "35:\tlearn: 0.3556732\ttotal: 94ms\tremaining: 167ms\n",
            "36:\tlearn: 0.3532173\ttotal: 95.5ms\tremaining: 163ms\n",
            "37:\tlearn: 0.3512993\ttotal: 96.9ms\tremaining: 158ms\n",
            "38:\tlearn: 0.3499585\ttotal: 98.5ms\tremaining: 154ms\n",
            "39:\tlearn: 0.3490041\ttotal: 100ms\tremaining: 151ms\n",
            "40:\tlearn: 0.3479876\ttotal: 102ms\tremaining: 147ms\n",
            "41:\tlearn: 0.3472177\ttotal: 103ms\tremaining: 143ms\n",
            "42:\tlearn: 0.3458266\ttotal: 105ms\tremaining: 139ms\n",
            "43:\tlearn: 0.3417596\ttotal: 107ms\tremaining: 136ms\n",
            "44:\tlearn: 0.3395938\ttotal: 108ms\tremaining: 132ms\n",
            "45:\tlearn: 0.3374256\ttotal: 110ms\tremaining: 129ms\n",
            "46:\tlearn: 0.3353643\ttotal: 111ms\tremaining: 125ms\n",
            "47:\tlearn: 0.3338308\ttotal: 113ms\tremaining: 122ms\n",
            "48:\tlearn: 0.3325432\ttotal: 114ms\tremaining: 119ms\n",
            "49:\tlearn: 0.3288564\ttotal: 116ms\tremaining: 116ms\n",
            "50:\tlearn: 0.3277868\ttotal: 117ms\tremaining: 113ms\n",
            "51:\tlearn: 0.3269552\ttotal: 119ms\tremaining: 110ms\n",
            "52:\tlearn: 0.3252626\ttotal: 120ms\tremaining: 107ms\n",
            "53:\tlearn: 0.3241317\ttotal: 122ms\tremaining: 104ms\n",
            "54:\tlearn: 0.3234097\ttotal: 123ms\tremaining: 101ms\n",
            "55:\tlearn: 0.3226822\ttotal: 125ms\tremaining: 98.3ms\n",
            "56:\tlearn: 0.3216732\ttotal: 127ms\tremaining: 95.5ms\n",
            "57:\tlearn: 0.3209819\ttotal: 128ms\tremaining: 92.8ms\n",
            "58:\tlearn: 0.3197336\ttotal: 130ms\tremaining: 90.2ms\n",
            "59:\tlearn: 0.3191284\ttotal: 131ms\tremaining: 87.5ms\n",
            "60:\tlearn: 0.3163828\ttotal: 133ms\tremaining: 85ms\n",
            "61:\tlearn: 0.3155873\ttotal: 134ms\tremaining: 82.3ms\n",
            "62:\tlearn: 0.3144760\ttotal: 136ms\tremaining: 79.8ms\n",
            "63:\tlearn: 0.3141172\ttotal: 137ms\tremaining: 77.3ms\n",
            "64:\tlearn: 0.3134725\ttotal: 139ms\tremaining: 74.9ms\n",
            "65:\tlearn: 0.3125225\ttotal: 141ms\tremaining: 72.5ms\n",
            "66:\tlearn: 0.3115354\ttotal: 142ms\tremaining: 70.1ms\n",
            "67:\tlearn: 0.3104710\ttotal: 144ms\tremaining: 67.7ms\n",
            "68:\tlearn: 0.3089504\ttotal: 145ms\tremaining: 65.3ms\n",
            "69:\tlearn: 0.3081827\ttotal: 147ms\tremaining: 63ms\n",
            "70:\tlearn: 0.3073744\ttotal: 149ms\tremaining: 60.7ms\n",
            "71:\tlearn: 0.3066483\ttotal: 150ms\tremaining: 58.4ms\n",
            "72:\tlearn: 0.3059602\ttotal: 152ms\tremaining: 56.1ms\n",
            "73:\tlearn: 0.3053160\ttotal: 153ms\tremaining: 53.8ms\n",
            "74:\tlearn: 0.3046046\ttotal: 155ms\tremaining: 51.6ms\n",
            "75:\tlearn: 0.3042478\ttotal: 156ms\tremaining: 49.4ms\n",
            "76:\tlearn: 0.3036863\ttotal: 158ms\tremaining: 47.1ms\n",
            "77:\tlearn: 0.3034117\ttotal: 159ms\tremaining: 45ms\n",
            "78:\tlearn: 0.3031366\ttotal: 161ms\tremaining: 42.7ms\n",
            "79:\tlearn: 0.3026828\ttotal: 162ms\tremaining: 40.6ms\n",
            "80:\tlearn: 0.3022707\ttotal: 164ms\tremaining: 38.4ms\n",
            "81:\tlearn: 0.3016241\ttotal: 165ms\tremaining: 36.3ms\n",
            "82:\tlearn: 0.3011494\ttotal: 167ms\tremaining: 34.2ms\n",
            "83:\tlearn: 0.3003702\ttotal: 168ms\tremaining: 32ms\n",
            "84:\tlearn: 0.2999411\ttotal: 170ms\tremaining: 30ms\n",
            "85:\tlearn: 0.2994890\ttotal: 171ms\tremaining: 27.9ms\n",
            "86:\tlearn: 0.2990106\ttotal: 177ms\tremaining: 26.5ms\n",
            "87:\tlearn: 0.2985986\ttotal: 181ms\tremaining: 24.7ms\n",
            "88:\tlearn: 0.2983516\ttotal: 183ms\tremaining: 22.6ms\n",
            "89:\tlearn: 0.2980811\ttotal: 184ms\tremaining: 20.5ms\n",
            "90:\tlearn: 0.2978748\ttotal: 186ms\tremaining: 18.4ms\n",
            "91:\tlearn: 0.2977833\ttotal: 187ms\tremaining: 16.3ms\n",
            "92:\tlearn: 0.2974810\ttotal: 190ms\tremaining: 14.3ms\n",
            "93:\tlearn: 0.2971235\ttotal: 192ms\tremaining: 12.3ms\n",
            "94:\tlearn: 0.2964632\ttotal: 194ms\tremaining: 10.2ms\n",
            "95:\tlearn: 0.2955514\ttotal: 196ms\tremaining: 8.16ms\n",
            "96:\tlearn: 0.2950292\ttotal: 197ms\tremaining: 6.1ms\n",
            "97:\tlearn: 0.2948552\ttotal: 199ms\tremaining: 4.06ms\n",
            "98:\tlearn: 0.2943884\ttotal: 200ms\tremaining: 2.02ms\n",
            "99:\tlearn: 0.2941432\ttotal: 202ms\tremaining: 0us\n"
          ]
        },
        {
          "output_type": "execute_result",
          "data": {
            "text/plain": [
              "<catboost.core.CatBoostRegressor at 0x7f8ea50e9710>"
            ]
          },
          "metadata": {},
          "execution_count": 135
        }
      ]
    },
    {
      "cell_type": "code",
      "metadata": {
        "id": "XgtS8s3kBkTG"
      },
      "source": [
        "validation_pred=cat_reg_modified.predict(validation_set)\n",
        "valid_cat_df=pd.DataFrame(validation_pred,columns=['valid_cat_pred'])"
      ],
      "execution_count": null,
      "outputs": []
    },
    {
      "cell_type": "code",
      "metadata": {
        "id": "in1DlQwPsl3H"
      },
      "source": [
        "#ADABOOSTREGRESSOR"
      ],
      "execution_count": null,
      "outputs": []
    },
    {
      "cell_type": "code",
      "metadata": {
        "id": "RHVjAZYKsmLH"
      },
      "source": [
        "def objective(trial):\n",
        "\n",
        "  x,y=train_df,y_train\n",
        "  #n_estimators=int(trial.suggest_discrete_uniform('n_estimators',100,1200,100))\n",
        "  learning_rate=trial.suggest_uniform('learning_rate',0.001,1)\n",
        "\n",
        "  clf=AdaBoostRegressor(learning_rate=learning_rate,base_estimator=XGBRegressor())\n",
        "  score=cross_val_score(clf,x,y,scoring='neg_root_mean_squared_error',n_jobs=-1,cv=3)\n",
        "  rmsle_score=score.mean()\n",
        "\n",
        "  return rmsle_score"
      ],
      "execution_count": null,
      "outputs": []
    },
    {
      "cell_type": "code",
      "metadata": {
        "colab": {
          "base_uri": "https://localhost:8080/"
        },
        "id": "6MP2W1Ufsmff",
        "outputId": "4ccd0a59-4809-4c7c-e4c8-ce6e3a9f5c32"
      },
      "source": [
        "study=optuna.create_study(direction='maximize')\n",
        "study.optimize(objective,n_trials=10)"
      ],
      "execution_count": null,
      "outputs": [
        {
          "output_type": "stream",
          "name": "stderr",
          "text": [
            "\u001b[32m[I 2021-09-07 05:56:58,511]\u001b[0m A new study created in memory with name: no-name-3e6fe830-ff0d-4fda-8874-bc4e30d57697\u001b[0m\n",
            "/usr/local/lib/python3.7/dist-packages/joblib/externals/loky/process_executor.py:691: UserWarning:\n",
            "\n",
            "A worker stopped while some jobs were given to the executor. This can be caused by a too short worker timeout or by a memory leak.\n",
            "\n",
            "\u001b[32m[I 2021-09-07 05:57:47,426]\u001b[0m Trial 0 finished with value: -0.45999731670325456 and parameters: {'learning_rate': 0.01642671301594668}. Best is trial 0 with value: -0.45999731670325456.\u001b[0m\n",
            "\u001b[32m[I 2021-09-07 05:58:35,040]\u001b[0m Trial 1 finished with value: -0.44246496052231926 and parameters: {'learning_rate': 0.23176791792297807}. Best is trial 1 with value: -0.44246496052231926.\u001b[0m\n",
            "\u001b[32m[I 2021-09-07 05:59:20,176]\u001b[0m Trial 2 finished with value: -0.4416604641754485 and parameters: {'learning_rate': 0.3008989059848994}. Best is trial 2 with value: -0.4416604641754485.\u001b[0m\n",
            "\u001b[32m[I 2021-09-07 05:59:46,604]\u001b[0m Trial 3 finished with value: -0.440731866040166 and parameters: {'learning_rate': 0.5231647012718974}. Best is trial 3 with value: -0.440731866040166.\u001b[0m\n",
            "\u001b[32m[I 2021-09-07 06:00:15,663]\u001b[0m Trial 4 finished with value: -0.4456122945383005 and parameters: {'learning_rate': 0.5254706658935786}. Best is trial 3 with value: -0.440731866040166.\u001b[0m\n",
            "\u001b[32m[I 2021-09-07 06:00:37,361]\u001b[0m Trial 5 finished with value: -0.44319985412195634 and parameters: {'learning_rate': 0.8311511151556042}. Best is trial 3 with value: -0.440731866040166.\u001b[0m\n",
            "\u001b[32m[I 2021-09-07 06:00:53,890]\u001b[0m Trial 6 finished with value: -0.4421651438304808 and parameters: {'learning_rate': 0.7666920420933901}. Best is trial 3 with value: -0.440731866040166.\u001b[0m\n",
            "\u001b[32m[I 2021-09-07 06:01:19,126]\u001b[0m Trial 7 finished with value: -0.4425372163692098 and parameters: {'learning_rate': 0.5758459901975533}. Best is trial 3 with value: -0.440731866040166.\u001b[0m\n",
            "\u001b[32m[I 2021-09-07 06:01:38,731]\u001b[0m Trial 8 finished with value: -0.4425140892169801 and parameters: {'learning_rate': 0.9179305385114901}. Best is trial 3 with value: -0.440731866040166.\u001b[0m\n",
            "\u001b[32m[I 2021-09-07 06:02:27,511]\u001b[0m Trial 9 finished with value: -0.44165413145626325 and parameters: {'learning_rate': 0.20892446144389878}. Best is trial 3 with value: -0.440731866040166.\u001b[0m\n"
          ]
        }
      ]
    },
    {
      "cell_type": "code",
      "metadata": {
        "id": "VwbquK6osmyQ"
      },
      "source": [
        "trial=study.best_trial"
      ],
      "execution_count": null,
      "outputs": []
    },
    {
      "cell_type": "code",
      "metadata": {
        "colab": {
          "base_uri": "https://localhost:8080/"
        },
        "id": "-Kmi5gYPsnPV",
        "outputId": "c358f0b6-227c-41e3-e49a-d87e00bacf7d"
      },
      "source": [
        "trial.params"
      ],
      "execution_count": null,
      "outputs": [
        {
          "output_type": "execute_result",
          "data": {
            "text/plain": [
              "{'learning_rate': 0.5231647012718974}"
            ]
          },
          "metadata": {},
          "execution_count": 140
        }
      ]
    },
    {
      "cell_type": "code",
      "metadata": {
        "colab": {
          "base_uri": "https://localhost:8080/"
        },
        "id": "pYDNcw59snhD",
        "outputId": "0a463c64-b02f-43ea-a71a-5e67b4bd2cfe"
      },
      "source": [
        "trial.value"
      ],
      "execution_count": null,
      "outputs": [
        {
          "output_type": "execute_result",
          "data": {
            "text/plain": [
              "-0.440731866040166"
            ]
          },
          "metadata": {},
          "execution_count": 141
        }
      ]
    },
    {
      "cell_type": "code",
      "metadata": {
        "colab": {
          "base_uri": "https://localhost:8080/"
        },
        "id": "YaY6yeWcsn1G",
        "outputId": "37b79d76-44e9-4472-a6db-85adc9f2610b"
      },
      "source": [
        "ada_reg_modified=AdaBoostRegressor(learning_rate=0.5231)\n",
        "ada_reg_modified.fit(train_df,y_train)"
      ],
      "execution_count": null,
      "outputs": [
        {
          "output_type": "execute_result",
          "data": {
            "text/plain": [
              "AdaBoostRegressor(base_estimator=None, learning_rate=0.5231, loss='linear',\n",
              "                  n_estimators=50, random_state=None)"
            ]
          },
          "metadata": {},
          "execution_count": 142
        }
      ]
    },
    {
      "cell_type": "code",
      "metadata": {
        "id": "e8weSDjhxfeW"
      },
      "source": [
        "validation_pred=ada_reg_modified.predict(validation_set)\n",
        "valid_ada_df=pd.DataFrame(validation_pred,columns=['valid_ada_pred'])"
      ],
      "execution_count": null,
      "outputs": []
    },
    {
      "cell_type": "code",
      "metadata": {
        "id": "jZwNI6AQQ_8H"
      },
      "source": [
        "#Concatenating the validation predictions from all the models"
      ],
      "execution_count": null,
      "outputs": []
    },
    {
      "cell_type": "code",
      "metadata": {
        "id": "SBYG3GwbBpBU"
      },
      "source": [
        "input_df_meta_model=pd.concat([valid_rf_df,valid_xgb_df,valid_lgb_df,valid_gb_df,valid_cat_df,valid_ada_df],axis=1)"
      ],
      "execution_count": null,
      "outputs": []
    },
    {
      "cell_type": "code",
      "metadata": {
        "colab": {
          "base_uri": "https://localhost:8080/",
          "height": 419
        },
        "id": "S6zv07WgB5lP",
        "outputId": "022b1a91-05ca-41cd-aeaf-51d26b625d99"
      },
      "source": [
        "input_df_meta_model"
      ],
      "execution_count": null,
      "outputs": [
        {
          "output_type": "execute_result",
          "data": {
            "text/html": [
              "<div>\n",
              "<style scoped>\n",
              "    .dataframe tbody tr th:only-of-type {\n",
              "        vertical-align: middle;\n",
              "    }\n",
              "\n",
              "    .dataframe tbody tr th {\n",
              "        vertical-align: top;\n",
              "    }\n",
              "\n",
              "    .dataframe thead th {\n",
              "        text-align: right;\n",
              "    }\n",
              "</style>\n",
              "<table border=\"1\" class=\"dataframe\">\n",
              "  <thead>\n",
              "    <tr style=\"text-align: right;\">\n",
              "      <th></th>\n",
              "      <th>valid_rf_pred</th>\n",
              "      <th>valid_xgb_pred</th>\n",
              "      <th>valid_lgb_pred</th>\n",
              "      <th>valid_gb_pred</th>\n",
              "      <th>valid_cat_pred</th>\n",
              "      <th>valid_ada_pred</th>\n",
              "    </tr>\n",
              "  </thead>\n",
              "  <tbody>\n",
              "    <tr>\n",
              "      <th>0</th>\n",
              "      <td>3.602919</td>\n",
              "      <td>3.107699</td>\n",
              "      <td>3.147317</td>\n",
              "      <td>3.339836</td>\n",
              "      <td>3.382409</td>\n",
              "      <td>3.853128</td>\n",
              "    </tr>\n",
              "    <tr>\n",
              "      <th>1</th>\n",
              "      <td>3.999025</td>\n",
              "      <td>3.892664</td>\n",
              "      <td>3.855758</td>\n",
              "      <td>3.832085</td>\n",
              "      <td>3.936522</td>\n",
              "      <td>3.972053</td>\n",
              "    </tr>\n",
              "    <tr>\n",
              "      <th>2</th>\n",
              "      <td>3.950889</td>\n",
              "      <td>3.903407</td>\n",
              "      <td>4.012655</td>\n",
              "      <td>3.927627</td>\n",
              "      <td>3.908479</td>\n",
              "      <td>4.015568</td>\n",
              "    </tr>\n",
              "    <tr>\n",
              "      <th>3</th>\n",
              "      <td>3.929613</td>\n",
              "      <td>3.984300</td>\n",
              "      <td>3.941107</td>\n",
              "      <td>3.943864</td>\n",
              "      <td>3.935871</td>\n",
              "      <td>3.972053</td>\n",
              "    </tr>\n",
              "    <tr>\n",
              "      <th>4</th>\n",
              "      <td>4.245578</td>\n",
              "      <td>4.292346</td>\n",
              "      <td>4.087881</td>\n",
              "      <td>4.175951</td>\n",
              "      <td>4.212225</td>\n",
              "      <td>3.972053</td>\n",
              "    </tr>\n",
              "    <tr>\n",
              "      <th>...</th>\n",
              "      <td>...</td>\n",
              "      <td>...</td>\n",
              "      <td>...</td>\n",
              "      <td>...</td>\n",
              "      <td>...</td>\n",
              "      <td>...</td>\n",
              "    </tr>\n",
              "    <tr>\n",
              "      <th>1132</th>\n",
              "      <td>5.938054</td>\n",
              "      <td>5.894590</td>\n",
              "      <td>5.924683</td>\n",
              "      <td>5.926718</td>\n",
              "      <td>5.942208</td>\n",
              "      <td>5.061882</td>\n",
              "    </tr>\n",
              "    <tr>\n",
              "      <th>1133</th>\n",
              "      <td>5.530420</td>\n",
              "      <td>5.637119</td>\n",
              "      <td>5.584972</td>\n",
              "      <td>5.608040</td>\n",
              "      <td>5.647738</td>\n",
              "      <td>5.036934</td>\n",
              "    </tr>\n",
              "    <tr>\n",
              "      <th>1134</th>\n",
              "      <td>5.184213</td>\n",
              "      <td>5.334210</td>\n",
              "      <td>5.248171</td>\n",
              "      <td>5.278625</td>\n",
              "      <td>5.439399</td>\n",
              "      <td>5.000079</td>\n",
              "    </tr>\n",
              "    <tr>\n",
              "      <th>1135</th>\n",
              "      <td>5.048523</td>\n",
              "      <td>5.105744</td>\n",
              "      <td>4.988011</td>\n",
              "      <td>5.059587</td>\n",
              "      <td>5.109228</td>\n",
              "      <td>4.975356</td>\n",
              "    </tr>\n",
              "    <tr>\n",
              "      <th>1136</th>\n",
              "      <td>4.575769</td>\n",
              "      <td>4.525011</td>\n",
              "      <td>4.587408</td>\n",
              "      <td>4.504651</td>\n",
              "      <td>4.530558</td>\n",
              "      <td>4.962107</td>\n",
              "    </tr>\n",
              "  </tbody>\n",
              "</table>\n",
              "<p>1137 rows × 6 columns</p>\n",
              "</div>"
            ],
            "text/plain": [
              "      valid_rf_pred  valid_xgb_pred  ...  valid_cat_pred  valid_ada_pred\n",
              "0          3.602919        3.107699  ...        3.382409        3.853128\n",
              "1          3.999025        3.892664  ...        3.936522        3.972053\n",
              "2          3.950889        3.903407  ...        3.908479        4.015568\n",
              "3          3.929613        3.984300  ...        3.935871        3.972053\n",
              "4          4.245578        4.292346  ...        4.212225        3.972053\n",
              "...             ...             ...  ...             ...             ...\n",
              "1132       5.938054        5.894590  ...        5.942208        5.061882\n",
              "1133       5.530420        5.637119  ...        5.647738        5.036934\n",
              "1134       5.184213        5.334210  ...        5.439399        5.000079\n",
              "1135       5.048523        5.105744  ...        5.109228        4.975356\n",
              "1136       4.575769        4.525011  ...        4.530558        4.962107\n",
              "\n",
              "[1137 rows x 6 columns]"
            ]
          },
          "metadata": {},
          "execution_count": 191
        }
      ]
    },
    {
      "cell_type": "code",
      "metadata": {
        "colab": {
          "base_uri": "https://localhost:8080/"
        },
        "id": "ZMAqCcoYB6uE",
        "outputId": "3dea35ba-f161-4777-d74f-2504dbb28068"
      },
      "source": [
        "meta_model=LinearRegression()\n",
        "meta_model.fit(input_df_meta_model,y_valid)"
      ],
      "execution_count": null,
      "outputs": [
        {
          "output_type": "execute_result",
          "data": {
            "text/plain": [
              "LinearRegression(copy_X=True, fit_intercept=True, n_jobs=None, normalize=False)"
            ]
          },
          "metadata": {},
          "execution_count": 192
        }
      ]
    },
    {
      "cell_type": "code",
      "metadata": {
        "colab": {
          "base_uri": "https://localhost:8080/"
        },
        "id": "MXePY_sqgWYd",
        "outputId": "35485dfd-4643-4077-966b-915045dea321"
      },
      "source": [
        "meta_model.coef_"
      ],
      "execution_count": null,
      "outputs": [
        {
          "output_type": "execute_result",
          "data": {
            "text/plain": [
              "array([ 0.19096114,  0.42948774,  0.16495856,  0.04283149,  0.22072533,\n",
              "       -0.05188154])"
            ]
          },
          "metadata": {},
          "execution_count": 193
        }
      ]
    },
    {
      "cell_type": "code",
      "metadata": {
        "colab": {
          "resources": {
            "http://localhost:8080/nbextensions/google.colab/files.js": {
              "data": "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",
              "ok": true,
              "headers": [
                [
                  "content-type",
                  "application/javascript"
                ]
              ],
              "status": 200,
              "status_text": ""
            }
          },
          "base_uri": "https://localhost:8080/",
          "height": 72
        },
        "id": "DGCy-zAxCZkB",
        "outputId": "2b22a087-f828-4ffe-8b59-f604d192f44c"
      },
      "source": [
        "from google.colab import files\n",
        "files=files.upload()"
      ],
      "execution_count": null,
      "outputs": [
        {
          "output_type": "display_data",
          "data": {
            "text/html": [
              "\n",
              "     <input type=\"file\" id=\"files-5de7c36b-81d1-4e16-9e26-ea658fff7928\" name=\"files[]\" multiple disabled\n",
              "        style=\"border:none\" />\n",
              "     <output id=\"result-5de7c36b-81d1-4e16-9e26-ea658fff7928\">\n",
              "      Upload widget is only available when the cell has been executed in the\n",
              "      current browser session. Please rerun this cell to enable.\n",
              "      </output>\n",
              "      <script src=\"/nbextensions/google.colab/files.js\"></script> "
            ],
            "text/plain": [
              "<IPython.core.display.HTML object>"
            ]
          },
          "metadata": {}
        },
        {
          "output_type": "stream",
          "name": "stdout",
          "text": [
            "Saving test_df.csv to test_df.csv\n"
          ]
        }
      ]
    },
    {
      "cell_type": "code",
      "metadata": {
        "id": "YgF5-mEACghZ"
      },
      "source": [
        "test_df=pd.read_csv('test_df.csv')"
      ],
      "execution_count": null,
      "outputs": []
    },
    {
      "cell_type": "code",
      "metadata": {
        "id": "g2f8pK2nCmUa"
      },
      "source": [
        "test_df=test_df[['season', 'holiday', 'workingday', 'weather', 'temp', 'humidity','windspeed', 'hour', 'year', 'weekday','busy_hours_non_working_day', 'peak_hours_working_day', 'hour_lag_value', 'increasing_reg_users_2012']]"
      ],
      "execution_count": null,
      "outputs": []
    },
    {
      "cell_type": "code",
      "metadata": {
        "id": "XncyOuBHCqRD"
      },
      "source": [
        "test_rf_pred=pd.DataFrame(rf_reg_rs.predict(test_df),columns=['valid_rf_pred'])\n",
        "test_xgb_pred=pd.DataFrame(xgb_reg_modified.predict(test_df,columns=['valid_xgb_pred'])\n",
        "test_lgb_pred=pd.DataFrame(lgb_reg_modified.predict(test_df,columns=['valid_lgb_pred'])\n",
        "test_gb_pred=pd.DataFrame(gb_reg_modified.predict(test_df,columns=['valid_gb_pred'])\n",
        "test_cat_pred=pd.DataFrame(cat_reg_modified.predict(test_df),columns=['valid_cat_pred'])\n",
        "test_ada_pred=pd.DataFrame(ada_reg_modified.predict(test_df),columns=['valid_ada_pred'])"
      ],
      "execution_count": null,
      "outputs": []
    },
    {
      "cell_type": "code",
      "metadata": {
        "id": "GcrZlzRtCyxz"
      },
      "source": [
        "final_test_df=pd.concat([test_rf_pred,test_xgb_pred,test_lgb_pred,test_gb_pred,test_cat_pred,test_ada_pred],axis=1)"
      ],
      "execution_count": null,
      "outputs": []
    },
    {
      "cell_type": "code",
      "metadata": {
        "colab": {
          "base_uri": "https://localhost:8080/",
          "height": 419
        },
        "id": "OJaDGzyTC14w",
        "outputId": "63ca2dce-8c04-4fcf-a3d1-6585d3e01c2d"
      },
      "source": [
        "final_test_df"
      ],
      "execution_count": null,
      "outputs": [
        {
          "output_type": "execute_result",
          "data": {
            "text/html": [
              "<div>\n",
              "<style scoped>\n",
              "    .dataframe tbody tr th:only-of-type {\n",
              "        vertical-align: middle;\n",
              "    }\n",
              "\n",
              "    .dataframe tbody tr th {\n",
              "        vertical-align: top;\n",
              "    }\n",
              "\n",
              "    .dataframe thead th {\n",
              "        text-align: right;\n",
              "    }\n",
              "</style>\n",
              "<table border=\"1\" class=\"dataframe\">\n",
              "  <thead>\n",
              "    <tr style=\"text-align: right;\">\n",
              "      <th></th>\n",
              "      <th>valid_rf_pred</th>\n",
              "      <th>valid_xgb_pred</th>\n",
              "      <th>valid_lgb_pred</th>\n",
              "      <th>valid_gb_pred</th>\n",
              "      <th>valid_cat_pred</th>\n",
              "      <th>valid_ada_pred</th>\n",
              "    </tr>\n",
              "  </thead>\n",
              "  <tbody>\n",
              "    <tr>\n",
              "      <th>0</th>\n",
              "      <td>2.437948</td>\n",
              "      <td>2.602516</td>\n",
              "      <td>2.473207</td>\n",
              "      <td>2.428588</td>\n",
              "      <td>2.550540</td>\n",
              "      <td>2.108657</td>\n",
              "    </tr>\n",
              "    <tr>\n",
              "      <th>1</th>\n",
              "      <td>1.748737</td>\n",
              "      <td>1.707745</td>\n",
              "      <td>1.706671</td>\n",
              "      <td>1.669607</td>\n",
              "      <td>1.797013</td>\n",
              "      <td>1.737003</td>\n",
              "    </tr>\n",
              "    <tr>\n",
              "      <th>2</th>\n",
              "      <td>0.819001</td>\n",
              "      <td>1.149806</td>\n",
              "      <td>1.234665</td>\n",
              "      <td>1.188564</td>\n",
              "      <td>1.274343</td>\n",
              "      <td>1.609200</td>\n",
              "    </tr>\n",
              "    <tr>\n",
              "      <th>3</th>\n",
              "      <td>0.897829</td>\n",
              "      <td>0.858923</td>\n",
              "      <td>0.975576</td>\n",
              "      <td>0.884709</td>\n",
              "      <td>0.894288</td>\n",
              "      <td>1.609200</td>\n",
              "    </tr>\n",
              "    <tr>\n",
              "      <th>4</th>\n",
              "      <td>0.871802</td>\n",
              "      <td>0.854364</td>\n",
              "      <td>0.975576</td>\n",
              "      <td>0.936807</td>\n",
              "      <td>0.912251</td>\n",
              "      <td>1.609200</td>\n",
              "    </tr>\n",
              "    <tr>\n",
              "      <th>...</th>\n",
              "      <td>...</td>\n",
              "      <td>...</td>\n",
              "      <td>...</td>\n",
              "      <td>...</td>\n",
              "      <td>...</td>\n",
              "      <td>...</td>\n",
              "    </tr>\n",
              "    <tr>\n",
              "      <th>6488</th>\n",
              "      <td>4.949968</td>\n",
              "      <td>5.319016</td>\n",
              "      <td>5.142366</td>\n",
              "      <td>5.329100</td>\n",
              "      <td>5.292116</td>\n",
              "      <td>4.676080</td>\n",
              "    </tr>\n",
              "    <tr>\n",
              "      <th>6489</th>\n",
              "      <td>4.721731</td>\n",
              "      <td>4.952726</td>\n",
              "      <td>4.845341</td>\n",
              "      <td>4.973198</td>\n",
              "      <td>4.991570</td>\n",
              "      <td>4.676080</td>\n",
              "    </tr>\n",
              "    <tr>\n",
              "      <th>6490</th>\n",
              "      <td>4.536906</td>\n",
              "      <td>4.614211</td>\n",
              "      <td>4.632019</td>\n",
              "      <td>4.694315</td>\n",
              "      <td>4.724357</td>\n",
              "      <td>4.311596</td>\n",
              "    </tr>\n",
              "    <tr>\n",
              "      <th>6491</th>\n",
              "      <td>4.367715</td>\n",
              "      <td>4.272962</td>\n",
              "      <td>4.255192</td>\n",
              "      <td>4.308905</td>\n",
              "      <td>4.322804</td>\n",
              "      <td>4.311596</td>\n",
              "    </tr>\n",
              "    <tr>\n",
              "      <th>6492</th>\n",
              "      <td>3.649823</td>\n",
              "      <td>3.660765</td>\n",
              "      <td>3.818991</td>\n",
              "      <td>3.739393</td>\n",
              "      <td>3.930168</td>\n",
              "      <td>4.305732</td>\n",
              "    </tr>\n",
              "  </tbody>\n",
              "</table>\n",
              "<p>6493 rows × 6 columns</p>\n",
              "</div>"
            ],
            "text/plain": [
              "      valid_rf_pred  valid_xgb_pred  ...  valid_cat_pred  valid_ada_pred\n",
              "0          2.437948        2.602516  ...        2.550540        2.108657\n",
              "1          1.748737        1.707745  ...        1.797013        1.737003\n",
              "2          0.819001        1.149806  ...        1.274343        1.609200\n",
              "3          0.897829        0.858923  ...        0.894288        1.609200\n",
              "4          0.871802        0.854364  ...        0.912251        1.609200\n",
              "...             ...             ...  ...             ...             ...\n",
              "6488       4.949968        5.319016  ...        5.292116        4.676080\n",
              "6489       4.721731        4.952726  ...        4.991570        4.676080\n",
              "6490       4.536906        4.614211  ...        4.724357        4.311596\n",
              "6491       4.367715        4.272962  ...        4.322804        4.311596\n",
              "6492       3.649823        3.660765  ...        3.930168        4.305732\n",
              "\n",
              "[6493 rows x 6 columns]"
            ]
          },
          "metadata": {},
          "execution_count": 198
        }
      ]
    },
    {
      "cell_type": "code",
      "metadata": {
        "id": "EVqHuSLmC4Zx"
      },
      "source": [
        "final_test_pred=meta_model.predict(final_test_df)"
      ],
      "execution_count": null,
      "outputs": []
    },
    {
      "cell_type": "code",
      "metadata": {
        "id": "S3wIpEyeC9cp"
      },
      "source": [
        "final_test_pred_reg_users=np.expm1(final_test_pred)"
      ],
      "execution_count": null,
      "outputs": []
    },
    {
      "cell_type": "code",
      "metadata": {
        "id": "Z2ZSnNn9DAVq"
      },
      "source": [
        "final_test_df=pd.DataFrame({'blended_pred_reg_users':final_test_pred_reg_users})"
      ],
      "execution_count": null,
      "outputs": []
    },
    {
      "cell_type": "code",
      "metadata": {
        "id": "tKnegbq4DD9s"
      },
      "source": [
        "final_test_df.to_csv('final_blended_pred_reg_users_27.csv',index=False)"
      ],
      "execution_count": null,
      "outputs": []
    },
    {
      "cell_type": "markdown",
      "metadata": {
        "id": "XWKL1uE3qvQm"
      },
      "source": [
        "**Final prediction on the test data**"
      ]
    },
    {
      "cell_type": "code",
      "metadata": {
        "colab": {
          "base_uri": "https://localhost:8080/",
          "height": 419
        },
        "id": "j64AycTjDIU_",
        "outputId": "d02f749c-4c0e-43c3-da74-7cecb35a0b1e"
      },
      "source": [
        "final_test_df"
      ],
      "execution_count": null,
      "outputs": [
        {
          "output_type": "execute_result",
          "data": {
            "text/html": [
              "<div>\n",
              "<style scoped>\n",
              "    .dataframe tbody tr th:only-of-type {\n",
              "        vertical-align: middle;\n",
              "    }\n",
              "\n",
              "    .dataframe tbody tr th {\n",
              "        vertical-align: top;\n",
              "    }\n",
              "\n",
              "    .dataframe thead th {\n",
              "        text-align: right;\n",
              "    }\n",
              "</style>\n",
              "<table border=\"1\" class=\"dataframe\">\n",
              "  <thead>\n",
              "    <tr style=\"text-align: right;\">\n",
              "      <th></th>\n",
              "      <th>blended_pred_reg_users</th>\n",
              "    </tr>\n",
              "  </thead>\n",
              "  <tbody>\n",
              "    <tr>\n",
              "      <th>0</th>\n",
              "      <td>11.558620</td>\n",
              "    </tr>\n",
              "    <tr>\n",
              "      <th>1</th>\n",
              "      <td>4.520707</td>\n",
              "    </tr>\n",
              "    <tr>\n",
              "      <th>2</th>\n",
              "      <td>1.956876</td>\n",
              "    </tr>\n",
              "    <tr>\n",
              "      <th>3</th>\n",
              "      <td>1.303925</td>\n",
              "    </tr>\n",
              "    <tr>\n",
              "      <th>4</th>\n",
              "      <td>1.302240</td>\n",
              "    </tr>\n",
              "    <tr>\n",
              "      <th>...</th>\n",
              "      <td>...</td>\n",
              "    </tr>\n",
              "    <tr>\n",
              "      <th>6488</th>\n",
              "      <td>182.694869</td>\n",
              "    </tr>\n",
              "    <tr>\n",
              "      <th>6489</th>\n",
              "      <td>130.867248</td>\n",
              "    </tr>\n",
              "    <tr>\n",
              "      <th>6490</th>\n",
              "      <td>99.877611</td>\n",
              "    </tr>\n",
              "    <tr>\n",
              "      <th>6491</th>\n",
              "      <td>70.359872</td>\n",
              "    </tr>\n",
              "    <tr>\n",
              "      <th>6492</th>\n",
              "      <td>38.845374</td>\n",
              "    </tr>\n",
              "  </tbody>\n",
              "</table>\n",
              "<p>6493 rows × 1 columns</p>\n",
              "</div>"
            ],
            "text/plain": [
              "      blended_pred_reg_users\n",
              "0                  11.558620\n",
              "1                   4.520707\n",
              "2                   1.956876\n",
              "3                   1.303925\n",
              "4                   1.302240\n",
              "...                      ...\n",
              "6488              182.694869\n",
              "6489              130.867248\n",
              "6490               99.877611\n",
              "6491               70.359872\n",
              "6492               38.845374\n",
              "\n",
              "[6493 rows x 1 columns]"
            ]
          },
          "metadata": {},
          "execution_count": 203
        }
      ]
    },
    {
      "cell_type": "code",
      "metadata": {
        "id": "u3nmYv-MgMLI"
      },
      "source": [
        "my_file=open('meta_blended_model.txt','wb')\n",
        "pickle.dump(meta_model,my_file)\n",
        "my_file.close()"
      ],
      "execution_count": null,
      "outputs": []
    },
    {
      "cell_type": "code",
      "metadata": {
        "id": "VtIliapf81nk"
      },
      "source": [
        "final_test_df.to_csv('test_df_blended.csv',index=False)"
      ],
      "execution_count": null,
      "outputs": []
    },
    {
      "cell_type": "code",
      "metadata": {
        "id": "kYinAgK39ENs",
        "colab": {
          "resources": {
            "http://localhost:8080/nbextensions/google.colab/files.js": {
              "data": "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",
              "ok": true,
              "headers": [
                [
                  "content-type",
                  "application/javascript"
                ]
              ],
              "status": 200,
              "status_text": ""
            }
          },
          "base_uri": "https://localhost:8080/",
          "height": 72
        },
        "outputId": "7805e2f5-6875-498f-89d2-99f8e3925d8a"
      },
      "source": [
        "from google.colab import files\n",
        "files=files.upload()"
      ],
      "execution_count": null,
      "outputs": [
        {
          "output_type": "display_data",
          "data": {
            "text/html": [
              "\n",
              "     <input type=\"file\" id=\"files-5fedf43d-cb6c-4779-ad9b-d5bb3419f43e\" name=\"files[]\" multiple disabled\n",
              "        style=\"border:none\" />\n",
              "     <output id=\"result-5fedf43d-cb6c-4779-ad9b-d5bb3419f43e\">\n",
              "      Upload widget is only available when the cell has been executed in the\n",
              "      current browser session. Please rerun this cell to enable.\n",
              "      </output>\n",
              "      <script src=\"/nbextensions/google.colab/files.js\"></script> "
            ],
            "text/plain": [
              "<IPython.core.display.HTML object>"
            ]
          },
          "metadata": {}
        },
        {
          "output_type": "stream",
          "name": "stdout",
          "text": [
            "Saving test_df_blended.csv to test_df_blended.csv\n"
          ]
        }
      ]
    },
    {
      "cell_type": "code",
      "metadata": {
        "id": "ux07giGsYh6E"
      },
      "source": [
        "test_df_blended=pd.read_csv('test_df_blended.csv')"
      ],
      "execution_count": null,
      "outputs": []
    }
  ]
}